{
  "nbformat": 4,
  "nbformat_minor": 0,
  "metadata": {
    "colab": {
      "provenance": []
    },
    "kernelspec": {
      "name": "python3",
      "display_name": "Python 3"
    },
    "language_info": {
      "name": "python"
    }
  },
  "cells": [
    {
      "cell_type": "code",
      "execution_count": null,
      "metadata": {
        "colab": {
          "base_uri": "https://localhost:8080/"
        },
        "id": "kZp6-GuujR36",
        "outputId": "d066a150-f4d6-453e-cc37-fdc71dba8a56"
      },
      "outputs": [
        {
          "output_type": "stream",
          "name": "stdout",
          "text": [
            "How many employees do you want to add? 4\n",
            "Enter employee name: Y\n",
            "Enter employee salary: 200\n",
            "Enter employee name: S\n",
            "Enter employee salary: 300\n",
            "Enter employee name: B\n",
            "Enter employee salary: 400\n",
            "Enter employee name: A\n",
            "Enter employee salary: 500\n",
            "Manager with highest salary:  A\n",
            "HR with second highest salary:  B\n",
            "Total expenditure on salaries:  1400.0\n"
          ]
        }
      ],
      "source": [
        "\n",
        "#QUESTION-Write Program to store employee data (Name and salary),then display name of the Manager who is having highest salary,display name of HR who is having second highest salary, and obtain total expenditure of company on employee's salary\n",
        "\n",
        "# Define a dictionary to store employee data\n",
        "employees = {}\n",
        "\n",
        "# Ask the user for the number of employees\n",
        "num_employees = int(input(\"How many employees do you want to add? \"))\n",
        "\n",
        "# Loop through each employee and ask for their name and salary\n",
        "for i in range(num_employees):\n",
        "    name = input(\"Enter employee name: \")\n",
        "    salary = float(input(\"Enter employee salary: \"))\n",
        "    employees[name] = salary\n",
        "\n",
        "# Find the manager with the highest salary and the HR person with the second highest salary\n",
        "sorted_salaries = sorted(employees.values(), reverse=True)\n",
        "manager_salary = sorted_salaries[0]\n",
        "hr_salary = sorted_salaries[1]\n",
        "\n",
        "manager = \"\"\n",
        "hr = \"\"\n",
        "\n",
        "for name, salary in employees.items():\n",
        "    if salary == manager_salary:\n",
        "        manager = name\n",
        "    elif salary == hr_salary:\n",
        "        hr = name\n",
        "\n",
        "# Calculate the total expenditure on employee salaries\n",
        "total_expenditure = sum(employees.values())\n",
        "\n",
        "# Display the results\n",
        "print(\"Manager with highest salary: \", manager)\n",
        "print(\"HR with second highest salary: \", hr)\n",
        "print(\"Total expenditure on salaries: \", total_expenditure)"
      ]
    }
  ]
}