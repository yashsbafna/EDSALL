{
  "nbformat": 4,
  "nbformat_minor": 0,
  "metadata": {
    "colab": {
      "provenance": []
    },
    "kernelspec": {
      "name": "python3",
      "display_name": "Python 3"
    },
    "language_info": {
      "name": "python"
    }
  },
  "cells": [
    {
      "cell_type": "code",
      "execution_count": null,
      "metadata": {
        "colab": {
          "base_uri": "https://localhost:8080/",
          "height": 740
        },
        "id": "fT6Oci6zg88q",
        "outputId": "1302c7d0-a706-4290-99a6-8ab00b559a07"
      },
      "outputs": [
        {
          "output_type": "display_data",
          "data": {
            "text/plain": [
              "   Unnamed: 0 Unnamed: 1 Unnamed: 2           Unnamed: 3 Unnamed: 4\n",
              "0      Sr no.   Emp Name     Emp id                 Date     Leaves\n",
              "1           1    Ganesh        1001  2023-01-21 00:00:00          2\n",
              "2           2     Kartik       1002  2023-01-22 00:00:00          4\n",
              "3           3      Veera       1003  2023-01-23 00:00:00          8\n",
              "4           4  Sanskruti       1004  2023-01-24 00:00:00          6\n",
              "5           5    Archana       1005  2023-01-25 00:00:00          1\n",
              "6           6   Aradhana       1006  2023-01-26 00:00:00          2\n",
              "7           7    Pratham       1007  2023-01-27 00:00:00          3\n",
              "8           8     Sayali       1008  2023-01-28 00:00:00          5\n",
              "9           9     Smruti       1009  2023-01-29 00:00:00          9\n",
              "10         10      Vijay       1010  2023-01-30 00:00:00          7"
            ],
            "text/html": [
              "\n",
              "  <div id=\"df-4d5e8953-178f-4998-a37a-8b1afa5074fa\">\n",
              "    <div class=\"colab-df-container\">\n",
              "      <div>\n",
              "<style scoped>\n",
              "    .dataframe tbody tr th:only-of-type {\n",
              "        vertical-align: middle;\n",
              "    }\n",
              "\n",
              "    .dataframe tbody tr th {\n",
              "        vertical-align: top;\n",
              "    }\n",
              "\n",
              "    .dataframe thead th {\n",
              "        text-align: right;\n",
              "    }\n",
              "</style>\n",
              "<table border=\"1\" class=\"dataframe\">\n",
              "  <thead>\n",
              "    <tr style=\"text-align: right;\">\n",
              "      <th></th>\n",
              "      <th>Unnamed: 0</th>\n",
              "      <th>Unnamed: 1</th>\n",
              "      <th>Unnamed: 2</th>\n",
              "      <th>Unnamed: 3</th>\n",
              "      <th>Unnamed: 4</th>\n",
              "    </tr>\n",
              "  </thead>\n",
              "  <tbody>\n",
              "    <tr>\n",
              "      <th>0</th>\n",
              "      <td>Sr no.</td>\n",
              "      <td>Emp Name</td>\n",
              "      <td>Emp id</td>\n",
              "      <td>Date</td>\n",
              "      <td>Leaves</td>\n",
              "    </tr>\n",
              "    <tr>\n",
              "      <th>1</th>\n",
              "      <td>1</td>\n",
              "      <td>Ganesh</td>\n",
              "      <td>1001</td>\n",
              "      <td>2023-01-21 00:00:00</td>\n",
              "      <td>2</td>\n",
              "    </tr>\n",
              "    <tr>\n",
              "      <th>2</th>\n",
              "      <td>2</td>\n",
              "      <td>Kartik</td>\n",
              "      <td>1002</td>\n",
              "      <td>2023-01-22 00:00:00</td>\n",
              "      <td>4</td>\n",
              "    </tr>\n",
              "    <tr>\n",
              "      <th>3</th>\n",
              "      <td>3</td>\n",
              "      <td>Veera</td>\n",
              "      <td>1003</td>\n",
              "      <td>2023-01-23 00:00:00</td>\n",
              "      <td>8</td>\n",
              "    </tr>\n",
              "    <tr>\n",
              "      <th>4</th>\n",
              "      <td>4</td>\n",
              "      <td>Sanskruti</td>\n",
              "      <td>1004</td>\n",
              "      <td>2023-01-24 00:00:00</td>\n",
              "      <td>6</td>\n",
              "    </tr>\n",
              "    <tr>\n",
              "      <th>5</th>\n",
              "      <td>5</td>\n",
              "      <td>Archana</td>\n",
              "      <td>1005</td>\n",
              "      <td>2023-01-25 00:00:00</td>\n",
              "      <td>1</td>\n",
              "    </tr>\n",
              "    <tr>\n",
              "      <th>6</th>\n",
              "      <td>6</td>\n",
              "      <td>Aradhana</td>\n",
              "      <td>1006</td>\n",
              "      <td>2023-01-26 00:00:00</td>\n",
              "      <td>2</td>\n",
              "    </tr>\n",
              "    <tr>\n",
              "      <th>7</th>\n",
              "      <td>7</td>\n",
              "      <td>Pratham</td>\n",
              "      <td>1007</td>\n",
              "      <td>2023-01-27 00:00:00</td>\n",
              "      <td>3</td>\n",
              "    </tr>\n",
              "    <tr>\n",
              "      <th>8</th>\n",
              "      <td>8</td>\n",
              "      <td>Sayali</td>\n",
              "      <td>1008</td>\n",
              "      <td>2023-01-28 00:00:00</td>\n",
              "      <td>5</td>\n",
              "    </tr>\n",
              "    <tr>\n",
              "      <th>9</th>\n",
              "      <td>9</td>\n",
              "      <td>Smruti</td>\n",
              "      <td>1009</td>\n",
              "      <td>2023-01-29 00:00:00</td>\n",
              "      <td>9</td>\n",
              "    </tr>\n",
              "    <tr>\n",
              "      <th>10</th>\n",
              "      <td>10</td>\n",
              "      <td>Vijay</td>\n",
              "      <td>1010</td>\n",
              "      <td>2023-01-30 00:00:00</td>\n",
              "      <td>7</td>\n",
              "    </tr>\n",
              "  </tbody>\n",
              "</table>\n",
              "</div>\n",
              "      <button class=\"colab-df-convert\" onclick=\"convertToInteractive('df-4d5e8953-178f-4998-a37a-8b1afa5074fa')\"\n",
              "              title=\"Convert this dataframe to an interactive table.\"\n",
              "              style=\"display:none;\">\n",
              "        \n",
              "  <svg xmlns=\"http://www.w3.org/2000/svg\" height=\"24px\"viewBox=\"0 0 24 24\"\n",
              "       width=\"24px\">\n",
              "    <path d=\"M0 0h24v24H0V0z\" fill=\"none\"/>\n",
              "    <path d=\"M18.56 5.44l.94 2.06.94-2.06 2.06-.94-2.06-.94-.94-2.06-.94 2.06-2.06.94zm-11 1L8.5 8.5l.94-2.06 2.06-.94-2.06-.94L8.5 2.5l-.94 2.06-2.06.94zm10 10l.94 2.06.94-2.06 2.06-.94-2.06-.94-.94-2.06-.94 2.06-2.06.94z\"/><path d=\"M17.41 7.96l-1.37-1.37c-.4-.4-.92-.59-1.43-.59-.52 0-1.04.2-1.43.59L10.3 9.45l-7.72 7.72c-.78.78-.78 2.05 0 2.83L4 21.41c.39.39.9.59 1.41.59.51 0 1.02-.2 1.41-.59l7.78-7.78 2.81-2.81c.8-.78.8-2.07 0-2.86zM5.41 20L4 18.59l7.72-7.72 1.47 1.35L5.41 20z\"/>\n",
              "  </svg>\n",
              "      </button>\n",
              "      \n",
              "  <style>\n",
              "    .colab-df-container {\n",
              "      display:flex;\n",
              "      flex-wrap:wrap;\n",
              "      gap: 12px;\n",
              "    }\n",
              "\n",
              "    .colab-df-convert {\n",
              "      background-color: #E8F0FE;\n",
              "      border: none;\n",
              "      border-radius: 50%;\n",
              "      cursor: pointer;\n",
              "      display: none;\n",
              "      fill: #1967D2;\n",
              "      height: 32px;\n",
              "      padding: 0 0 0 0;\n",
              "      width: 32px;\n",
              "    }\n",
              "\n",
              "    .colab-df-convert:hover {\n",
              "      background-color: #E2EBFA;\n",
              "      box-shadow: 0px 1px 2px rgba(60, 64, 67, 0.3), 0px 1px 3px 1px rgba(60, 64, 67, 0.15);\n",
              "      fill: #174EA6;\n",
              "    }\n",
              "\n",
              "    [theme=dark] .colab-df-convert {\n",
              "      background-color: #3B4455;\n",
              "      fill: #D2E3FC;\n",
              "    }\n",
              "\n",
              "    [theme=dark] .colab-df-convert:hover {\n",
              "      background-color: #434B5C;\n",
              "      box-shadow: 0px 1px 3px 1px rgba(0, 0, 0, 0.15);\n",
              "      filter: drop-shadow(0px 1px 2px rgba(0, 0, 0, 0.3));\n",
              "      fill: #FFFFFF;\n",
              "    }\n",
              "  </style>\n",
              "\n",
              "      <script>\n",
              "        const buttonEl =\n",
              "          document.querySelector('#df-4d5e8953-178f-4998-a37a-8b1afa5074fa button.colab-df-convert');\n",
              "        buttonEl.style.display =\n",
              "          google.colab.kernel.accessAllowed ? 'block' : 'none';\n",
              "\n",
              "        async function convertToInteractive(key) {\n",
              "          const element = document.querySelector('#df-4d5e8953-178f-4998-a37a-8b1afa5074fa');\n",
              "          const dataTable =\n",
              "            await google.colab.kernel.invokeFunction('convertToInteractive',\n",
              "                                                     [key], {});\n",
              "          if (!dataTable) return;\n",
              "\n",
              "          const docLinkHtml = 'Like what you see? Visit the ' +\n",
              "            '<a target=\"_blank\" href=https://colab.research.google.com/notebooks/data_table.ipynb>data table notebook</a>'\n",
              "            + ' to learn more about interactive tables.';\n",
              "          element.innerHTML = '';\n",
              "          dataTable['output_type'] = 'display_data';\n",
              "          await google.colab.output.renderOutput(dataTable, element);\n",
              "          const docLink = document.createElement('div');\n",
              "          docLink.innerHTML = docLinkHtml;\n",
              "          element.appendChild(docLink);\n",
              "        }\n",
              "      </script>\n",
              "    </div>\n",
              "  </div>\n",
              "  "
            ]
          },
          "metadata": {}
        },
        {
          "output_type": "display_data",
          "data": {
            "text/plain": [
              "    Emp Name  Emp id  Salary\n",
              "0    Ganesh     1001   25000\n",
              "1     Kartik    1002   40000\n",
              "2      Veera    1003   80000\n",
              "3  Sanskruti    1004   60000\n",
              "4    Archana    1005   50000\n",
              "5   Aradhana    1006   30000\n",
              "6    Pratham    1007   15000\n",
              "7     Sayali    1008   55000\n",
              "8     Smruti    1009   80000\n",
              "9      Vijay    1010  100000"
            ],
            "text/html": [
              "\n",
              "  <div id=\"df-3ef05e23-ed44-4621-8be3-118355d09c52\">\n",
              "    <div class=\"colab-df-container\">\n",
              "      <div>\n",
              "<style scoped>\n",
              "    .dataframe tbody tr th:only-of-type {\n",
              "        vertical-align: middle;\n",
              "    }\n",
              "\n",
              "    .dataframe tbody tr th {\n",
              "        vertical-align: top;\n",
              "    }\n",
              "\n",
              "    .dataframe thead th {\n",
              "        text-align: right;\n",
              "    }\n",
              "</style>\n",
              "<table border=\"1\" class=\"dataframe\">\n",
              "  <thead>\n",
              "    <tr style=\"text-align: right;\">\n",
              "      <th></th>\n",
              "      <th>Emp Name</th>\n",
              "      <th>Emp id</th>\n",
              "      <th>Salary</th>\n",
              "    </tr>\n",
              "  </thead>\n",
              "  <tbody>\n",
              "    <tr>\n",
              "      <th>0</th>\n",
              "      <td>Ganesh</td>\n",
              "      <td>1001</td>\n",
              "      <td>25000</td>\n",
              "    </tr>\n",
              "    <tr>\n",
              "      <th>1</th>\n",
              "      <td>Kartik</td>\n",
              "      <td>1002</td>\n",
              "      <td>40000</td>\n",
              "    </tr>\n",
              "    <tr>\n",
              "      <th>2</th>\n",
              "      <td>Veera</td>\n",
              "      <td>1003</td>\n",
              "      <td>80000</td>\n",
              "    </tr>\n",
              "    <tr>\n",
              "      <th>3</th>\n",
              "      <td>Sanskruti</td>\n",
              "      <td>1004</td>\n",
              "      <td>60000</td>\n",
              "    </tr>\n",
              "    <tr>\n",
              "      <th>4</th>\n",
              "      <td>Archana</td>\n",
              "      <td>1005</td>\n",
              "      <td>50000</td>\n",
              "    </tr>\n",
              "    <tr>\n",
              "      <th>5</th>\n",
              "      <td>Aradhana</td>\n",
              "      <td>1006</td>\n",
              "      <td>30000</td>\n",
              "    </tr>\n",
              "    <tr>\n",
              "      <th>6</th>\n",
              "      <td>Pratham</td>\n",
              "      <td>1007</td>\n",
              "      <td>15000</td>\n",
              "    </tr>\n",
              "    <tr>\n",
              "      <th>7</th>\n",
              "      <td>Sayali</td>\n",
              "      <td>1008</td>\n",
              "      <td>55000</td>\n",
              "    </tr>\n",
              "    <tr>\n",
              "      <th>8</th>\n",
              "      <td>Smruti</td>\n",
              "      <td>1009</td>\n",
              "      <td>80000</td>\n",
              "    </tr>\n",
              "    <tr>\n",
              "      <th>9</th>\n",
              "      <td>Vijay</td>\n",
              "      <td>1010</td>\n",
              "      <td>100000</td>\n",
              "    </tr>\n",
              "  </tbody>\n",
              "</table>\n",
              "</div>\n",
              "      <button class=\"colab-df-convert\" onclick=\"convertToInteractive('df-3ef05e23-ed44-4621-8be3-118355d09c52')\"\n",
              "              title=\"Convert this dataframe to an interactive table.\"\n",
              "              style=\"display:none;\">\n",
              "        \n",
              "  <svg xmlns=\"http://www.w3.org/2000/svg\" height=\"24px\"viewBox=\"0 0 24 24\"\n",
              "       width=\"24px\">\n",
              "    <path d=\"M0 0h24v24H0V0z\" fill=\"none\"/>\n",
              "    <path d=\"M18.56 5.44l.94 2.06.94-2.06 2.06-.94-2.06-.94-.94-2.06-.94 2.06-2.06.94zm-11 1L8.5 8.5l.94-2.06 2.06-.94-2.06-.94L8.5 2.5l-.94 2.06-2.06.94zm10 10l.94 2.06.94-2.06 2.06-.94-2.06-.94-.94-2.06-.94 2.06-2.06.94z\"/><path d=\"M17.41 7.96l-1.37-1.37c-.4-.4-.92-.59-1.43-.59-.52 0-1.04.2-1.43.59L10.3 9.45l-7.72 7.72c-.78.78-.78 2.05 0 2.83L4 21.41c.39.39.9.59 1.41.59.51 0 1.02-.2 1.41-.59l7.78-7.78 2.81-2.81c.8-.78.8-2.07 0-2.86zM5.41 20L4 18.59l7.72-7.72 1.47 1.35L5.41 20z\"/>\n",
              "  </svg>\n",
              "      </button>\n",
              "      \n",
              "  <style>\n",
              "    .colab-df-container {\n",
              "      display:flex;\n",
              "      flex-wrap:wrap;\n",
              "      gap: 12px;\n",
              "    }\n",
              "\n",
              "    .colab-df-convert {\n",
              "      background-color: #E8F0FE;\n",
              "      border: none;\n",
              "      border-radius: 50%;\n",
              "      cursor: pointer;\n",
              "      display: none;\n",
              "      fill: #1967D2;\n",
              "      height: 32px;\n",
              "      padding: 0 0 0 0;\n",
              "      width: 32px;\n",
              "    }\n",
              "\n",
              "    .colab-df-convert:hover {\n",
              "      background-color: #E2EBFA;\n",
              "      box-shadow: 0px 1px 2px rgba(60, 64, 67, 0.3), 0px 1px 3px 1px rgba(60, 64, 67, 0.15);\n",
              "      fill: #174EA6;\n",
              "    }\n",
              "\n",
              "    [theme=dark] .colab-df-convert {\n",
              "      background-color: #3B4455;\n",
              "      fill: #D2E3FC;\n",
              "    }\n",
              "\n",
              "    [theme=dark] .colab-df-convert:hover {\n",
              "      background-color: #434B5C;\n",
              "      box-shadow: 0px 1px 3px 1px rgba(0, 0, 0, 0.15);\n",
              "      filter: drop-shadow(0px 1px 2px rgba(0, 0, 0, 0.3));\n",
              "      fill: #FFFFFF;\n",
              "    }\n",
              "  </style>\n",
              "\n",
              "      <script>\n",
              "        const buttonEl =\n",
              "          document.querySelector('#df-3ef05e23-ed44-4621-8be3-118355d09c52 button.colab-df-convert');\n",
              "        buttonEl.style.display =\n",
              "          google.colab.kernel.accessAllowed ? 'block' : 'none';\n",
              "\n",
              "        async function convertToInteractive(key) {\n",
              "          const element = document.querySelector('#df-3ef05e23-ed44-4621-8be3-118355d09c52');\n",
              "          const dataTable =\n",
              "            await google.colab.kernel.invokeFunction('convertToInteractive',\n",
              "                                                     [key], {});\n",
              "          if (!dataTable) return;\n",
              "\n",
              "          const docLinkHtml = 'Like what you see? Visit the ' +\n",
              "            '<a target=\"_blank\" href=https://colab.research.google.com/notebooks/data_table.ipynb>data table notebook</a>'\n",
              "            + ' to learn more about interactive tables.';\n",
              "          element.innerHTML = '';\n",
              "          dataTable['output_type'] = 'display_data';\n",
              "          await google.colab.output.renderOutput(dataTable, element);\n",
              "          const docLink = document.createElement('div');\n",
              "          docLink.innerHTML = docLinkHtml;\n",
              "          element.appendChild(docLink);\n",
              "        }\n",
              "      </script>\n",
              "    </div>\n",
              "  </div>\n",
              "  "
            ]
          },
          "metadata": {}
        }
      ],
      "source": [
        "import pandas as pd\n",
        "df = pd.read_excel('/content/drive/MyDrive/python excel sheets/employ.xlsx')\n",
        "display(df)\n",
        "df1 = pd.read_excel(r'/content/drive/MyDrive/python excel sheets/salary.xlsx')\n",
        "display(df1)"
      ]
    },
    {
      "cell_type": "code",
      "source": [
        "import pandas as pd\n",
        "df1.sort_values(by=['Salary'])"
      ],
      "metadata": {
        "colab": {
          "base_uri": "https://localhost:8080/",
          "height": 363
        },
        "id": "U6MW03qVhS2f",
        "outputId": "7b8603d8-8264-42cd-cb90-296e1fb05284"
      },
      "execution_count": null,
      "outputs": [
        {
          "output_type": "execute_result",
          "data": {
            "text/plain": [
              "    Emp Name  Emp id  Salary\n",
              "6    Pratham    1007   15000\n",
              "0    Ganesh     1001   25000\n",
              "5   Aradhana    1006   30000\n",
              "1     Kartik    1002   40000\n",
              "4    Archana    1005   50000\n",
              "7     Sayali    1008   55000\n",
              "3  Sanskruti    1004   60000\n",
              "2      Veera    1003   80000\n",
              "8     Smruti    1009   80000\n",
              "9      Vijay    1010  100000"
            ],
            "text/html": [
              "\n",
              "  <div id=\"df-9bd6ff99-9d27-48a7-b970-790d7aa9f418\">\n",
              "    <div class=\"colab-df-container\">\n",
              "      <div>\n",
              "<style scoped>\n",
              "    .dataframe tbody tr th:only-of-type {\n",
              "        vertical-align: middle;\n",
              "    }\n",
              "\n",
              "    .dataframe tbody tr th {\n",
              "        vertical-align: top;\n",
              "    }\n",
              "\n",
              "    .dataframe thead th {\n",
              "        text-align: right;\n",
              "    }\n",
              "</style>\n",
              "<table border=\"1\" class=\"dataframe\">\n",
              "  <thead>\n",
              "    <tr style=\"text-align: right;\">\n",
              "      <th></th>\n",
              "      <th>Emp Name</th>\n",
              "      <th>Emp id</th>\n",
              "      <th>Salary</th>\n",
              "    </tr>\n",
              "  </thead>\n",
              "  <tbody>\n",
              "    <tr>\n",
              "      <th>6</th>\n",
              "      <td>Pratham</td>\n",
              "      <td>1007</td>\n",
              "      <td>15000</td>\n",
              "    </tr>\n",
              "    <tr>\n",
              "      <th>0</th>\n",
              "      <td>Ganesh</td>\n",
              "      <td>1001</td>\n",
              "      <td>25000</td>\n",
              "    </tr>\n",
              "    <tr>\n",
              "      <th>5</th>\n",
              "      <td>Aradhana</td>\n",
              "      <td>1006</td>\n",
              "      <td>30000</td>\n",
              "    </tr>\n",
              "    <tr>\n",
              "      <th>1</th>\n",
              "      <td>Kartik</td>\n",
              "      <td>1002</td>\n",
              "      <td>40000</td>\n",
              "    </tr>\n",
              "    <tr>\n",
              "      <th>4</th>\n",
              "      <td>Archana</td>\n",
              "      <td>1005</td>\n",
              "      <td>50000</td>\n",
              "    </tr>\n",
              "    <tr>\n",
              "      <th>7</th>\n",
              "      <td>Sayali</td>\n",
              "      <td>1008</td>\n",
              "      <td>55000</td>\n",
              "    </tr>\n",
              "    <tr>\n",
              "      <th>3</th>\n",
              "      <td>Sanskruti</td>\n",
              "      <td>1004</td>\n",
              "      <td>60000</td>\n",
              "    </tr>\n",
              "    <tr>\n",
              "      <th>2</th>\n",
              "      <td>Veera</td>\n",
              "      <td>1003</td>\n",
              "      <td>80000</td>\n",
              "    </tr>\n",
              "    <tr>\n",
              "      <th>8</th>\n",
              "      <td>Smruti</td>\n",
              "      <td>1009</td>\n",
              "      <td>80000</td>\n",
              "    </tr>\n",
              "    <tr>\n",
              "      <th>9</th>\n",
              "      <td>Vijay</td>\n",
              "      <td>1010</td>\n",
              "      <td>100000</td>\n",
              "    </tr>\n",
              "  </tbody>\n",
              "</table>\n",
              "</div>\n",
              "      <button class=\"colab-df-convert\" onclick=\"convertToInteractive('df-9bd6ff99-9d27-48a7-b970-790d7aa9f418')\"\n",
              "              title=\"Convert this dataframe to an interactive table.\"\n",
              "              style=\"display:none;\">\n",
              "        \n",
              "  <svg xmlns=\"http://www.w3.org/2000/svg\" height=\"24px\"viewBox=\"0 0 24 24\"\n",
              "       width=\"24px\">\n",
              "    <path d=\"M0 0h24v24H0V0z\" fill=\"none\"/>\n",
              "    <path d=\"M18.56 5.44l.94 2.06.94-2.06 2.06-.94-2.06-.94-.94-2.06-.94 2.06-2.06.94zm-11 1L8.5 8.5l.94-2.06 2.06-.94-2.06-.94L8.5 2.5l-.94 2.06-2.06.94zm10 10l.94 2.06.94-2.06 2.06-.94-2.06-.94-.94-2.06-.94 2.06-2.06.94z\"/><path d=\"M17.41 7.96l-1.37-1.37c-.4-.4-.92-.59-1.43-.59-.52 0-1.04.2-1.43.59L10.3 9.45l-7.72 7.72c-.78.78-.78 2.05 0 2.83L4 21.41c.39.39.9.59 1.41.59.51 0 1.02-.2 1.41-.59l7.78-7.78 2.81-2.81c.8-.78.8-2.07 0-2.86zM5.41 20L4 18.59l7.72-7.72 1.47 1.35L5.41 20z\"/>\n",
              "  </svg>\n",
              "      </button>\n",
              "      \n",
              "  <style>\n",
              "    .colab-df-container {\n",
              "      display:flex;\n",
              "      flex-wrap:wrap;\n",
              "      gap: 12px;\n",
              "    }\n",
              "\n",
              "    .colab-df-convert {\n",
              "      background-color: #E8F0FE;\n",
              "      border: none;\n",
              "      border-radius: 50%;\n",
              "      cursor: pointer;\n",
              "      display: none;\n",
              "      fill: #1967D2;\n",
              "      height: 32px;\n",
              "      padding: 0 0 0 0;\n",
              "      width: 32px;\n",
              "    }\n",
              "\n",
              "    .colab-df-convert:hover {\n",
              "      background-color: #E2EBFA;\n",
              "      box-shadow: 0px 1px 2px rgba(60, 64, 67, 0.3), 0px 1px 3px 1px rgba(60, 64, 67, 0.15);\n",
              "      fill: #174EA6;\n",
              "    }\n",
              "\n",
              "    [theme=dark] .colab-df-convert {\n",
              "      background-color: #3B4455;\n",
              "      fill: #D2E3FC;\n",
              "    }\n",
              "\n",
              "    [theme=dark] .colab-df-convert:hover {\n",
              "      background-color: #434B5C;\n",
              "      box-shadow: 0px 1px 3px 1px rgba(0, 0, 0, 0.15);\n",
              "      filter: drop-shadow(0px 1px 2px rgba(0, 0, 0, 0.3));\n",
              "      fill: #FFFFFF;\n",
              "    }\n",
              "  </style>\n",
              "\n",
              "      <script>\n",
              "        const buttonEl =\n",
              "          document.querySelector('#df-9bd6ff99-9d27-48a7-b970-790d7aa9f418 button.colab-df-convert');\n",
              "        buttonEl.style.display =\n",
              "          google.colab.kernel.accessAllowed ? 'block' : 'none';\n",
              "\n",
              "        async function convertToInteractive(key) {\n",
              "          const element = document.querySelector('#df-9bd6ff99-9d27-48a7-b970-790d7aa9f418');\n",
              "          const dataTable =\n",
              "            await google.colab.kernel.invokeFunction('convertToInteractive',\n",
              "                                                     [key], {});\n",
              "          if (!dataTable) return;\n",
              "\n",
              "          const docLinkHtml = 'Like what you see? Visit the ' +\n",
              "            '<a target=\"_blank\" href=https://colab.research.google.com/notebooks/data_table.ipynb>data table notebook</a>'\n",
              "            + ' to learn more about interactive tables.';\n",
              "          element.innerHTML = '';\n",
              "          dataTable['output_type'] = 'display_data';\n",
              "          await google.colab.output.renderOutput(dataTable, element);\n",
              "          const docLink = document.createElement('div');\n",
              "          docLink.innerHTML = docLinkHtml;\n",
              "          element.appendChild(docLink);\n",
              "        }\n",
              "      </script>\n",
              "    </div>\n",
              "  </div>\n",
              "  "
            ]
          },
          "metadata": {},
          "execution_count": 5
        }
      ]
    },
    {
      "cell_type": "code",
      "source": [
        "df1.sort_values(by=['Salary'],ascending=False)"
      ],
      "metadata": {
        "colab": {
          "base_uri": "https://localhost:8080/",
          "height": 363
        },
        "id": "CsJlr1UNiT9e",
        "outputId": "cf17c62e-76a4-44f1-f5b5-d565ecccd63c"
      },
      "execution_count": null,
      "outputs": [
        {
          "output_type": "execute_result",
          "data": {
            "text/plain": [
              "    Emp Name  Emp id  Salary\n",
              "9      Vijay    1010  100000\n",
              "2      Veera    1003   80000\n",
              "8     Smruti    1009   80000\n",
              "3  Sanskruti    1004   60000\n",
              "7     Sayali    1008   55000\n",
              "4    Archana    1005   50000\n",
              "1     Kartik    1002   40000\n",
              "5   Aradhana    1006   30000\n",
              "0    Ganesh     1001   25000\n",
              "6    Pratham    1007   15000"
            ],
            "text/html": [
              "\n",
              "  <div id=\"df-dd1375ee-aac1-450c-be8e-b254e5ba0a89\">\n",
              "    <div class=\"colab-df-container\">\n",
              "      <div>\n",
              "<style scoped>\n",
              "    .dataframe tbody tr th:only-of-type {\n",
              "        vertical-align: middle;\n",
              "    }\n",
              "\n",
              "    .dataframe tbody tr th {\n",
              "        vertical-align: top;\n",
              "    }\n",
              "\n",
              "    .dataframe thead th {\n",
              "        text-align: right;\n",
              "    }\n",
              "</style>\n",
              "<table border=\"1\" class=\"dataframe\">\n",
              "  <thead>\n",
              "    <tr style=\"text-align: right;\">\n",
              "      <th></th>\n",
              "      <th>Emp Name</th>\n",
              "      <th>Emp id</th>\n",
              "      <th>Salary</th>\n",
              "    </tr>\n",
              "  </thead>\n",
              "  <tbody>\n",
              "    <tr>\n",
              "      <th>9</th>\n",
              "      <td>Vijay</td>\n",
              "      <td>1010</td>\n",
              "      <td>100000</td>\n",
              "    </tr>\n",
              "    <tr>\n",
              "      <th>2</th>\n",
              "      <td>Veera</td>\n",
              "      <td>1003</td>\n",
              "      <td>80000</td>\n",
              "    </tr>\n",
              "    <tr>\n",
              "      <th>8</th>\n",
              "      <td>Smruti</td>\n",
              "      <td>1009</td>\n",
              "      <td>80000</td>\n",
              "    </tr>\n",
              "    <tr>\n",
              "      <th>3</th>\n",
              "      <td>Sanskruti</td>\n",
              "      <td>1004</td>\n",
              "      <td>60000</td>\n",
              "    </tr>\n",
              "    <tr>\n",
              "      <th>7</th>\n",
              "      <td>Sayali</td>\n",
              "      <td>1008</td>\n",
              "      <td>55000</td>\n",
              "    </tr>\n",
              "    <tr>\n",
              "      <th>4</th>\n",
              "      <td>Archana</td>\n",
              "      <td>1005</td>\n",
              "      <td>50000</td>\n",
              "    </tr>\n",
              "    <tr>\n",
              "      <th>1</th>\n",
              "      <td>Kartik</td>\n",
              "      <td>1002</td>\n",
              "      <td>40000</td>\n",
              "    </tr>\n",
              "    <tr>\n",
              "      <th>5</th>\n",
              "      <td>Aradhana</td>\n",
              "      <td>1006</td>\n",
              "      <td>30000</td>\n",
              "    </tr>\n",
              "    <tr>\n",
              "      <th>0</th>\n",
              "      <td>Ganesh</td>\n",
              "      <td>1001</td>\n",
              "      <td>25000</td>\n",
              "    </tr>\n",
              "    <tr>\n",
              "      <th>6</th>\n",
              "      <td>Pratham</td>\n",
              "      <td>1007</td>\n",
              "      <td>15000</td>\n",
              "    </tr>\n",
              "  </tbody>\n",
              "</table>\n",
              "</div>\n",
              "      <button class=\"colab-df-convert\" onclick=\"convertToInteractive('df-dd1375ee-aac1-450c-be8e-b254e5ba0a89')\"\n",
              "              title=\"Convert this dataframe to an interactive table.\"\n",
              "              style=\"display:none;\">\n",
              "        \n",
              "  <svg xmlns=\"http://www.w3.org/2000/svg\" height=\"24px\"viewBox=\"0 0 24 24\"\n",
              "       width=\"24px\">\n",
              "    <path d=\"M0 0h24v24H0V0z\" fill=\"none\"/>\n",
              "    <path d=\"M18.56 5.44l.94 2.06.94-2.06 2.06-.94-2.06-.94-.94-2.06-.94 2.06-2.06.94zm-11 1L8.5 8.5l.94-2.06 2.06-.94-2.06-.94L8.5 2.5l-.94 2.06-2.06.94zm10 10l.94 2.06.94-2.06 2.06-.94-2.06-.94-.94-2.06-.94 2.06-2.06.94z\"/><path d=\"M17.41 7.96l-1.37-1.37c-.4-.4-.92-.59-1.43-.59-.52 0-1.04.2-1.43.59L10.3 9.45l-7.72 7.72c-.78.78-.78 2.05 0 2.83L4 21.41c.39.39.9.59 1.41.59.51 0 1.02-.2 1.41-.59l7.78-7.78 2.81-2.81c.8-.78.8-2.07 0-2.86zM5.41 20L4 18.59l7.72-7.72 1.47 1.35L5.41 20z\"/>\n",
              "  </svg>\n",
              "      </button>\n",
              "      \n",
              "  <style>\n",
              "    .colab-df-container {\n",
              "      display:flex;\n",
              "      flex-wrap:wrap;\n",
              "      gap: 12px;\n",
              "    }\n",
              "\n",
              "    .colab-df-convert {\n",
              "      background-color: #E8F0FE;\n",
              "      border: none;\n",
              "      border-radius: 50%;\n",
              "      cursor: pointer;\n",
              "      display: none;\n",
              "      fill: #1967D2;\n",
              "      height: 32px;\n",
              "      padding: 0 0 0 0;\n",
              "      width: 32px;\n",
              "    }\n",
              "\n",
              "    .colab-df-convert:hover {\n",
              "      background-color: #E2EBFA;\n",
              "      box-shadow: 0px 1px 2px rgba(60, 64, 67, 0.3), 0px 1px 3px 1px rgba(60, 64, 67, 0.15);\n",
              "      fill: #174EA6;\n",
              "    }\n",
              "\n",
              "    [theme=dark] .colab-df-convert {\n",
              "      background-color: #3B4455;\n",
              "      fill: #D2E3FC;\n",
              "    }\n",
              "\n",
              "    [theme=dark] .colab-df-convert:hover {\n",
              "      background-color: #434B5C;\n",
              "      box-shadow: 0px 1px 3px 1px rgba(0, 0, 0, 0.15);\n",
              "      filter: drop-shadow(0px 1px 2px rgba(0, 0, 0, 0.3));\n",
              "      fill: #FFFFFF;\n",
              "    }\n",
              "  </style>\n",
              "\n",
              "      <script>\n",
              "        const buttonEl =\n",
              "          document.querySelector('#df-dd1375ee-aac1-450c-be8e-b254e5ba0a89 button.colab-df-convert');\n",
              "        buttonEl.style.display =\n",
              "          google.colab.kernel.accessAllowed ? 'block' : 'none';\n",
              "\n",
              "        async function convertToInteractive(key) {\n",
              "          const element = document.querySelector('#df-dd1375ee-aac1-450c-be8e-b254e5ba0a89');\n",
              "          const dataTable =\n",
              "            await google.colab.kernel.invokeFunction('convertToInteractive',\n",
              "                                                     [key], {});\n",
              "          if (!dataTable) return;\n",
              "\n",
              "          const docLinkHtml = 'Like what you see? Visit the ' +\n",
              "            '<a target=\"_blank\" href=https://colab.research.google.com/notebooks/data_table.ipynb>data table notebook</a>'\n",
              "            + ' to learn more about interactive tables.';\n",
              "          element.innerHTML = '';\n",
              "          dataTable['output_type'] = 'display_data';\n",
              "          await google.colab.output.renderOutput(dataTable, element);\n",
              "          const docLink = document.createElement('div');\n",
              "          docLink.innerHTML = docLinkHtml;\n",
              "          element.appendChild(docLink);\n",
              "        }\n",
              "      </script>\n",
              "    </div>\n",
              "  </div>\n",
              "  "
            ]
          },
          "metadata": {},
          "execution_count": 6
        }
      ]
    },
    {
      "cell_type": "code",
      "source": [
        "print(t1[0])\n"
      ],
      "metadata": {
        "colab": {
          "base_uri": "https://localhost:8080/"
        },
        "id": "pGPaxsi8Nqv-",
        "outputId": "b327509f-c081-46ae-f38c-bae4db6a4064"
      },
      "execution_count": null,
      "outputs": [
        {
          "output_type": "stream",
          "name": "stdout",
          "text": [
            "10\n"
          ]
        }
      ]
    },
    {
      "cell_type": "code",
      "source": [
        "print(t1[-1])\n",
        "print(t2[-2])\n",
        "\n"
      ],
      "metadata": {
        "colab": {
          "base_uri": "https://localhost:8080/"
        },
        "id": "0E6WgeBzN1QJ",
        "outputId": "292d3e55-47c9-4b9c-df0a-fac63a3de31d"
      },
      "execution_count": null,
      "outputs": [
        {
          "output_type": "stream",
          "name": "stdout",
          "text": [
            "15.17\n",
            "21\n"
          ]
        }
      ]
    },
    {
      "cell_type": "code",
      "source": [
        "st1=t1[1:4]\n",
        "print(st1)"
      ],
      "metadata": {
        "colab": {
          "base_uri": "https://localhost:8080/"
        },
        "id": "F_TiPcjjOGz2",
        "outputId": "f4e8150b-ae6c-4c5e-be70-cb094aa6bea7"
      },
      "execution_count": null,
      "outputs": [
        {
          "output_type": "stream",
          "name": "stdout",
          "text": [
            "(20, 30, 'python')\n"
          ]
        }
      ]
    },
    {
      "cell_type": "code",
      "source": [
        "str2=t1+(50,60)\n",
        "print(str2)"
      ],
      "metadata": {
        "colab": {
          "base_uri": "https://localhost:8080/"
        },
        "id": "kJRB0I7kOYSm",
        "outputId": "e622d2cc-3c5d-4f2e-f220-9480cb9fbd28"
      },
      "execution_count": null,
      "outputs": [
        {
          "output_type": "stream",
          "name": "stdout",
          "text": [
            "(10, 20, 30, 'python', 15.17, 50, 60)\n"
          ]
        }
      ]
    },
    {
      "cell_type": "code",
      "source": [
        "print(10 in t1)\n",
        "print(10 not in t1)\n"
      ],
      "metadata": {
        "colab": {
          "base_uri": "https://localhost:8080/"
        },
        "id": "v-9EZ7z8Oozg",
        "outputId": "fbc84c66-f4f6-4d14-a30b-2202ed05f15c"
      },
      "execution_count": null,
      "outputs": [
        {
          "output_type": "stream",
          "name": "stdout",
          "text": [
            "True\n",
            "False\n"
          ]
        }
      ]
    },
    {
      "cell_type": "code",
      "source": [
        "t3=t1+t2\n",
        "print(t3)\n"
      ],
      "metadata": {
        "colab": {
          "base_uri": "https://localhost:8080/"
        },
        "id": "5FlRJG6uPSmU",
        "outputId": "06313a5d-bed4-4631-e0e2-cf849c1cf54d"
      },
      "execution_count": null,
      "outputs": [
        {
          "output_type": "stream",
          "name": "stdout",
          "text": [
            "(10, 20, 30, 'python', 15.17, 80.87, 21, 'yash')\n"
          ]
        }
      ]
    },
    {
      "cell_type": "code",
      "source": [
        "t4=t1*3\n",
        "print(t4)\n"
      ],
      "metadata": {
        "colab": {
          "base_uri": "https://localhost:8080/"
        },
        "id": "Fs3WkvcsPZ3q",
        "outputId": "75afb78d-5317-4f22-9f25-e46386023e05"
      },
      "execution_count": null,
      "outputs": [
        {
          "output_type": "stream",
          "name": "stdout",
          "text": [
            "(10, 20, 30, 'python', 15.17, 10, 20, 30, 'python', 15.17, 10, 20, 30, 'python', 15.17)\n"
          ]
        }
      ]
    },
    {
      "cell_type": "code",
      "source": [
        "s1 = {10,20,30}\n",
        "for i in s1:\n",
        "  print(s1)"
      ],
      "metadata": {
        "colab": {
          "base_uri": "https://localhost:8080/"
        },
        "id": "E9IzhjmAbsyg",
        "outputId": "69985582-ff72-4e43-983e-9a987e477b34"
      },
      "execution_count": null,
      "outputs": [
        {
          "output_type": "stream",
          "name": "stdout",
          "text": [
            "{10, 20, 30}\n",
            "{10, 20, 30}\n",
            "{10, 20, 30}\n"
          ]
        }
      ]
    },
    {
      "cell_type": "code",
      "source": [
        "a = {10,20,30}\n",
        "print(a)"
      ],
      "metadata": {
        "colab": {
          "base_uri": "https://localhost:8080/"
        },
        "id": "TSF7s76ncW4u",
        "outputId": "a0d10e1d-2f04-4f04-d90d-1a2a84b3edcb"
      },
      "execution_count": null,
      "outputs": [
        {
          "output_type": "stream",
          "name": "stdout",
          "text": [
            "{10, 20, 30}\n"
          ]
        }
      ]
    },
    {
      "cell_type": "code",
      "source": [
        "s1 = {10,20,30}\n",
        "for i in s1:\n",
        "  print(i)"
      ],
      "metadata": {
        "colab": {
          "base_uri": "https://localhost:8080/"
        },
        "id": "HU1EtCYbcfxH",
        "outputId": "98155b20-5db5-4090-9f3c-75c1ae464956"
      },
      "execution_count": null,
      "outputs": [
        {
          "output_type": "stream",
          "name": "stdout",
          "text": [
            "10\n",
            "20\n",
            "30\n"
          ]
        }
      ]
    },
    {
      "cell_type": "code",
      "source": [
        "s1 = {10,20,30}\n",
        "s1.add(5)\n",
        "print(s1)"
      ],
      "metadata": {
        "colab": {
          "base_uri": "https://localhost:8080/"
        },
        "id": "Wgcn25drctO4",
        "outputId": "3090559e-3b67-467c-b486-a378475722f0"
      },
      "execution_count": null,
      "outputs": [
        {
          "output_type": "stream",
          "name": "stdout",
          "text": [
            "{10, 20, 5, 30}\n"
          ]
        }
      ]
    },
    {
      "cell_type": "code",
      "source": [
        "s1 = {10,20,30}\n",
        "s1.update((7,8,9))\n",
        "print(s1)"
      ],
      "metadata": {
        "colab": {
          "base_uri": "https://localhost:8080/"
        },
        "id": "4DNzQTv-dAH1",
        "outputId": "df627685-b267-4ee8-d94f-35f62f446c3d"
      },
      "execution_count": null,
      "outputs": [
        {
          "output_type": "stream",
          "name": "stdout",
          "text": [
            "{7, 8, 9, 10, 20, 30}\n"
          ]
        }
      ]
    },
    {
      "cell_type": "code",
      "source": [
        "s1 = {10,20,30}\n",
        "s1.discard(10)\n",
        "print(s1)"
      ],
      "metadata": {
        "colab": {
          "base_uri": "https://localhost:8080/"
        },
        "id": "cg5KJ6Ntdep3",
        "outputId": "03dd3d23-ff44-4ea0-b7b2-247e9ead25b3"
      },
      "execution_count": null,
      "outputs": [
        {
          "output_type": "stream",
          "name": "stdout",
          "text": [
            "{20, 30}\n"
          ]
        }
      ]
    },
    {
      "cell_type": "code",
      "source": [
        "t1 = {1,2,3,4,5}\n",
        "t2 = {4,5,6,7,8}\n",
        "c1 = t1 | t2\n",
        "print(c1)"
      ],
      "metadata": {
        "colab": {
          "base_uri": "https://localhost:8080/"
        },
        "id": "hqUnh3rUeFqu",
        "outputId": "c23dd657-8af7-481d-8658-90f5ef414b68"
      },
      "execution_count": null,
      "outputs": [
        {
          "output_type": "stream",
          "name": "stdout",
          "text": [
            "{1, 2, 3, 4, 5, 6, 7, 8}\n"
          ]
        }
      ]
    },
    {
      "cell_type": "code",
      "source": [
        "i1 = t1&t2\n",
        "print(i1)"
      ],
      "metadata": {
        "colab": {
          "base_uri": "https://localhost:8080/"
        },
        "id": "aODdmAYgem92",
        "outputId": "4e892911-d96a-48a8-98bc-35e1194c12ee"
      },
      "execution_count": null,
      "outputs": [
        {
          "output_type": "stream",
          "name": "stdout",
          "text": [
            "{4, 5}\n"
          ]
        }
      ]
    },
    {
      "cell_type": "code",
      "source": [
        "i1=t1-t2\n",
        "print(i1)"
      ],
      "metadata": {
        "colab": {
          "base_uri": "https://localhost:8080/"
        },
        "id": "3rdcYi9WeykV",
        "outputId": "4f2013da-7ab6-4a13-da78-a8314da661d6"
      },
      "execution_count": null,
      "outputs": [
        {
          "output_type": "stream",
          "name": "stdout",
          "text": [
            "{1, 2, 3}\n"
          ]
        }
      ]
    },
    {
      "cell_type": "code",
      "source": [
        "t1 = {1,2,3,4,5}\n",
        "t2 = {4,5,6,7,8}\n",
        "i1=t1^t2\n",
        "print(i1)"
      ],
      "metadata": {
        "colab": {
          "base_uri": "https://localhost:8080/"
        },
        "id": "ZfODP-Fpe7-V",
        "outputId": "a497c329-abdf-4b9b-b4ea-a56b60130360"
      },
      "execution_count": null,
      "outputs": [
        {
          "output_type": "stream",
          "name": "stdout",
          "text": [
            "{1, 2, 3, 6, 7, 8}\n"
          ]
        }
      ]
    },
    {
      "cell_type": "code",
      "source": [
        "s1={10,20,30,40}\n",
        "s1.clear()\n",
        "print(s1)"
      ],
      "metadata": {
        "colab": {
          "base_uri": "https://localhost:8080/"
        },
        "id": "MuLK4D0Cgk3F",
        "outputId": "a40ee267-9adb-4939-e4dd-ad4c379bef59"
      },
      "execution_count": null,
      "outputs": [
        {
          "output_type": "stream",
          "name": "stdout",
          "text": [
            "set()\n"
          ]
        }
      ]
    },
    {
      "cell_type": "code",
      "source": [
        "# List of activities after leaving home\n",
        "activities= ['Went for a GYM', 'Bought groceries at the supermarket', 'Met a friend for breakfast', 'Attended a EDS class', 'Went to the library to take a book']\n",
        "\n",
        "# Display the list of activities using a for loop\n",
        "for activity in activities:\n",
        "    print(activities )"
      ],
      "metadata": {
        "colab": {
          "base_uri": "https://localhost:8080/"
        },
        "id": "InzUFoWvh-YG",
        "outputId": "548dc21b-2c19-44bc-b4c1-e92aa336e1dc"
      },
      "execution_count": null,
      "outputs": [
        {
          "output_type": "stream",
          "name": "stdout",
          "text": [
            "['Went for a GYM', 'Bought groceries at the supermarket', 'Met a friend for breakfast', 'Attended a EDS class', 'Went to the library to take a book']\n",
            "['Went for a GYM', 'Bought groceries at the supermarket', 'Met a friend for breakfast', 'Attended a EDS class', 'Went to the library to take a book']\n",
            "['Went for a GYM', 'Bought groceries at the supermarket', 'Met a friend for breakfast', 'Attended a EDS class', 'Went to the library to take a book']\n",
            "['Went for a GYM', 'Bought groceries at the supermarket', 'Met a friend for breakfast', 'Attended a EDS class', 'Went to the library to take a book']\n",
            "['Went for a GYM', 'Bought groceries at the supermarket', 'Met a friend for breakfast', 'Attended a EDS class', 'Went to the library to take a book']\n"
          ]
        }
      ]
    },
    {
      "cell_type": "code",
      "source": [
        "import numpy as np\n",
        "arr=np.array([1,2,3,4,5])\n",
        "x=arr.copy()\n",
        "y=arr.view()\n",
        "arr[1]=42\n",
        "arr[0]=45\n",
        "print(arr)\n",
        "print(x)\n",
        "print(y)\n"
      ],
      "metadata": {
        "id": "4tNhTwlJj9p4",
        "colab": {
          "base_uri": "https://localhost:8080/"
        },
        "outputId": "59e65249-7378-4251-b249-f1949f9b5cc9"
      },
      "execution_count": null,
      "outputs": [
        {
          "output_type": "stream",
          "name": "stdout",
          "text": [
            "[45 42  3  4  5]\n",
            "[1 2 3 4 5]\n",
            "[45 42  3  4  5]\n"
          ]
        }
      ]
    },
    {
      "cell_type": "code",
      "source": [
        "import numpy as np\n",
        "x=np.array([[1,2],[4,5]])\n",
        "y=np.array([[6,7],[9,10]])\n",
        "print(\"addition of matrix\")\n",
        "print(np.add(x,y))\n",
        "\n",
        "print(\"subtraction of matrix\")\n",
        "print(np.subtract(x,y))\n",
        "\n",
        "\n"
      ],
      "metadata": {
        "colab": {
          "base_uri": "https://localhost:8080/"
        },
        "id": "lu_gl76VlMfk",
        "outputId": "73554880-bd1f-447d-fc9a-0aac117f483e"
      },
      "execution_count": null,
      "outputs": [
        {
          "output_type": "stream",
          "name": "stdout",
          "text": [
            "addition of matrix\n",
            "[[ 7  9]\n",
            " [13 15]]\n",
            "subtraction of matrix\n",
            "[[-5 -5]\n",
            " [-5 -5]]\n"
          ]
        }
      ]
    },
    {
      "cell_type": "code",
      "source": [
        "#TUPLE OPERATION\n",
        "t1=(1,2,3,\"yash\")\n",
        "t2=(5,6,7,8,9,\"prajakta\",0)\n",
        "print(t1)\n",
        "\n",
        "\n"
      ],
      "metadata": {
        "id": "uJsxTwOSmvsd",
        "colab": {
          "base_uri": "https://localhost:8080/"
        },
        "outputId": "89f14cbd-9d39-4baa-8906-1ff293170bd6"
      },
      "execution_count": null,
      "outputs": [
        {
          "output_type": "stream",
          "name": "stdout",
          "text": [
            "(1, 2, 3, 'yash')\n"
          ]
        }
      ]
    },
    {
      "cell_type": "code",
      "source": [
        "t1=(1,2,3,\"yash\")\n",
        "t2=(5,6,7,8,9,\"prajakta\",0)\n",
        "print(t1+t2)"
      ],
      "metadata": {
        "colab": {
          "base_uri": "https://localhost:8080/"
        },
        "id": "os0GutMdL8IV",
        "outputId": "a3717b22-3689-4b73-c400-4d2cdcc4db62"
      },
      "execution_count": null,
      "outputs": [
        {
          "output_type": "stream",
          "name": "stdout",
          "text": [
            "(1, 2, 3, 'yash', 5, 6, 7, 8, 9, 'prajakta', 0)\n"
          ]
        }
      ]
    },
    {
      "cell_type": "code",
      "source": [
        "t1=(1,2,3,\"yash\")\n",
        "t2=(5,6,7,8,9,\"prajakta\",0)\n",
        "print(t1[0])"
      ],
      "metadata": {
        "colab": {
          "base_uri": "https://localhost:8080/"
        },
        "id": "j4Usw11VMRFb",
        "outputId": "ceadfbd0-bc4a-4ceb-e549-66d96016a5c8"
      },
      "execution_count": null,
      "outputs": [
        {
          "output_type": "stream",
          "name": "stdout",
          "text": [
            "1\n"
          ]
        }
      ]
    },
    {
      "cell_type": "code",
      "source": [
        "t1=(1,2,3,\"yash\")\n",
        "t2=(5,6,7,8,9,\"prajakta\",0)\n",
        "print(t2[-1])\n",
        "print(t1[-1])"
      ],
      "metadata": {
        "colab": {
          "base_uri": "https://localhost:8080/"
        },
        "id": "O6voEhg3MdGj",
        "outputId": "b76c8be5-9f62-4d07-f6f2-e4451a698330"
      },
      "execution_count": null,
      "outputs": [
        {
          "output_type": "stream",
          "name": "stdout",
          "text": [
            "0\n",
            "yash\n"
          ]
        }
      ]
    },
    {
      "cell_type": "code",
      "source": [
        " # A program that prompts the user to make a choice\n",
        "\n",
        "print(\"Choose an hard subject option:\")\n",
        "print(\"1. Option cde 1\")\n",
        "print(\"2. Option physics 2\")\n",
        "print(\"3. Option eee 3\")\n",
        "\n",
        "choice = int(input(\"Enter your choice (1-3): \"))\n",
        "\n",
        "if choice == 1:\n",
        "    print(\"https://youtu.be/JySWJwDmRHc\")\n",
        "elif choice == 2:\n",
        "    print(\"https://youtu.be/IzQsYnLz2Gc\")\n",
        "elif choice == 3:\n",
        "    print(\"https://youtu.be/UX1cNnUMEOA\")\n",
        "else:\n",
        "    print(\"Invalid choice. Please enter a number between 1 and 3.\")"
      ],
      "metadata": {
        "colab": {
          "base_uri": "https://localhost:8080/"
        },
        "id": "EajvGkxPM16c",
        "outputId": "a252e359-9b96-4256-a20f-3824507040c5"
      },
      "execution_count": null,
      "outputs": [
        {
          "output_type": "stream",
          "name": "stdout",
          "text": [
            "Choose an hard subject option:\n",
            "1. Option cde 1\n",
            "2. Option physics 2\n",
            "3. Option eee 3\n",
            "Enter your choice (1-3): 1\n",
            "https://youtu.be/JySWJwDmRHc\n"
          ]
        }
      ]
    },
    {
      "cell_type": "code",
      "source": [
        "l1=(5,6,7,8,9,\"A\",\"B\")\n",
        "print(l1*2)"
      ],
      "metadata": {
        "colab": {
          "base_uri": "https://localhost:8080/"
        },
        "id": "PlAXaaIZNrAk",
        "outputId": "b24dd2be-060c-4f12-8a9b-3847b0bad03b"
      },
      "execution_count": null,
      "outputs": [
        {
          "output_type": "stream",
          "name": "stdout",
          "text": [
            "(5, 6, 7, 8, 9, 'A', 'B', 5, 6, 7, 8, 9, 'A', 'B')\n"
          ]
        }
      ]
    },
    {
      "cell_type": "code",
      "source": [
        "#Q2 B)\n",
        "# SUM OF ALL ITEMS IN DICTIONARY\n",
        "def sum_dict_items(d):\n",
        "    \"\"\"\n",
        "    Sums all the values in a dictionary.\n",
        "    \"\"\"\n",
        "    return sum(d.values())\n",
        "\n",
        "# example usage:\n",
        "my_dict = {'a': 10, 'b': 20, 'c': 30}\n",
        "total_sum = sum_dict_items(my_dict)\n",
        "print(\"Total sum of dictionary items:\", total_sum)"
      ],
      "metadata": {
        "colab": {
          "base_uri": "https://localhost:8080/"
        },
        "id": "p7garRTww9zn",
        "outputId": "d2adab80-7d77-4310-84aa-df9fc6fb714e"
      },
      "execution_count": null,
      "outputs": [
        {
          "output_type": "stream",
          "name": "stdout",
          "text": [
            "Total sum of dictionary items: 60\n"
          ]
        }
      ]
    },
    {
      "cell_type": "code",
      "source": [
        "# Q3) B)\n",
        "# to create a union of sets, set difference, and the intersection of sets\n",
        "# define two sets\n",
        "set1 = {1, 2, 3, 4, 5}\n",
        "set2 = {4, 5, 6, 7, 8}\n",
        "\n",
        "# create a union of sets\n",
        "union_set = set1.union(set2)\n",
        "print(\"Union of sets:\", union_set)\n",
        "\n",
        "# create a set difference\n",
        "diff_set = set1.difference(set2)\n",
        "print(\"Set difference:\", diff_set)\n",
        "\n",
        "# create an intersection of sets\n",
        "intersect_set = set1.intersection(set2)\n",
        "print(\"Intersection of sets:\", intersect_set)"
      ],
      "metadata": {
        "colab": {
          "base_uri": "https://localhost:8080/"
        },
        "id": "1TqWbsrCx37i",
        "outputId": "340178b0-561e-412f-fbbe-4c9460af598f"
      },
      "execution_count": null,
      "outputs": [
        {
          "output_type": "stream",
          "name": "stdout",
          "text": [
            "Union of sets: {1, 2, 3, 4, 5, 6, 7, 8}\n",
            "Set difference: {1, 2, 3}\n",
            "Intersection of sets: {4, 5}\n"
          ]
        }
      ]
    },
    {
      "cell_type": "code",
      "source": [
        "import math\n",
        "print(math,pow(9,3))"
      ],
      "metadata": {
        "colab": {
          "base_uri": "https://localhost:8080/"
        },
        "id": "irNmvP6ZRFpJ",
        "outputId": "9280d82d-db6e-40fa-95ba-8a28fba1ba38"
      },
      "execution_count": null,
      "outputs": [
        {
          "output_type": "stream",
          "name": "stdout",
          "text": [
            "<module 'math' (built-in)> 729\n"
          ]
        }
      ]
    },
    {
      "cell_type": "code",
      "source": [
        "#itertools in python\n",
        "#Python's Itertool is a module that provides\n",
        "#various functions that work\n",
        "# on iterators to produce complex iterators.\n",
        "from itertools import count\n",
        "\n",
        "for number in count(start=5, step=3):\n",
        "    if number > 10:\n",
        "        break\n",
        "    print(number)"
      ],
      "metadata": {
        "colab": {
          "base_uri": "https://localhost:8080/"
        },
        "id": "p5JFXeGCSIhd",
        "outputId": "8b9df393-aa73-4d41-cb76-0f6a2b02b6d0"
      },
      "execution_count": null,
      "outputs": [
        {
          "output_type": "stream",
          "name": "stdout",
          "text": [
            "5\n",
            "8\n"
          ]
        }
      ]
    },
    {
      "cell_type": "code",
      "source": [
        "x=range(3,10)\n",
        "for n in x :\n",
        "  print(n)\n"
      ],
      "metadata": {
        "colab": {
          "base_uri": "https://localhost:8080/"
        },
        "id": "1bXGcZwPTi3K",
        "outputId": "6869d2ba-1562-4708-8936-a262b412e7e6"
      },
      "execution_count": null,
      "outputs": [
        {
          "output_type": "stream",
          "name": "stdout",
          "text": [
            "3\n",
            "4\n",
            "5\n",
            "6\n",
            "7\n",
            "8\n",
            "9\n"
          ]
        }
      ]
    },
    {
      "cell_type": "code",
      "source": [
        "import decimal\n",
        "\n",
        "float_division=22/7\n",
        "\n",
        "decimal_devision=decimal.Decimal (22)/decimal.Decimal(7)\n",
        "\n",
        "print(\"Result for float division of 4 by 3:\")\n",
        "\n",
        "print (float_division)\n",
        "\n",
        "print(\"Result for decimal division of 4 by 3:\")\n",
        "\n",
        "print(decimal_devision)"
      ],
      "metadata": {
        "colab": {
          "base_uri": "https://localhost:8080/"
        },
        "id": "ACKsbYn7T9yh",
        "outputId": "102172d3-d539-4b71-e739-84765363bfd0"
      },
      "execution_count": null,
      "outputs": [
        {
          "output_type": "stream",
          "name": "stdout",
          "text": [
            "Result for float division of 4 by 3:\n",
            "3.142857142857143\n",
            "Result for decimal division of 4 by 3:\n",
            "3.142857142857142857142857143\n"
          ]
        }
      ]
    },
    {
      "cell_type": "code",
      "source": [
        "from fractions import Fraction\n",
        "\n",
        "print (Fraction (84,21))\n",
        "\n",
        "print (Fraction (81, 7))\n",
        "\n",
        "print (Fraction (23,17))"
      ],
      "metadata": {
        "colab": {
          "base_uri": "https://localhost:8080/"
        },
        "id": "ldSLVNxhVE5M",
        "outputId": "51fe0e86-7ac1-4119-b53f-01332ff655fe"
      },
      "execution_count": null,
      "outputs": [
        {
          "output_type": "stream",
          "name": "stdout",
          "text": [
            "4\n",
            "81/7\n",
            "23/17\n"
          ]
        }
      ]
    },
    {
      "cell_type": "code",
      "source": [
        "import decimal\n",
        "\n",
        "from decimal import Decimal\n",
        "\n",
        "x = Decimal('0.8')\n",
        "y = Decimal('0.9')\n",
        "z = Decimal('0.7')\n",
        "s= x + y + z\n",
        "\n",
        "print(s)"
      ],
      "metadata": {
        "colab": {
          "base_uri": "https://localhost:8080/"
        },
        "id": "aEudc-8-VSjT",
        "outputId": "6b2af4ed-9401-4e58-81eb-27f3e66300d5"
      },
      "execution_count": null,
      "outputs": [
        {
          "output_type": "stream",
          "name": "stdout",
          "text": [
            "2.4\n"
          ]
        }
      ]
    },
    {
      "cell_type": "code",
      "source": [
        "#1\n",
        "import pandas as pd\n",
        "df=pd.read_csv('/content/hobby.csv')\n",
        "b=pd.DataFrame(df)\n",
        "print(b)"
      ],
      "metadata": {
        "colab": {
          "base_uri": "https://localhost:8080/"
        },
        "id": "QPX9cvDb0Ydi",
        "outputId": "2b4a4764-de73-456f-b149-530a3cda0a9e"
      },
      "execution_count": null,
      "outputs": [
        {
          "output_type": "stream",
          "name": "stdout",
          "text": [
            "   sr.no    name div  roll no         hobby\n",
            "0      1    yash   A      102       READING\n",
            "1      2   rahul   A      106        GAMING\n",
            "2      3   harsh   B      265       PLAYING\n",
            "3      4     jay   B      365      SLEEPING\n",
            "4      5   rohit   C      452       READING\n",
            "5      6    jeet   C      123        GAMING\n",
            "6      7  sanket   A      621       PLAYING\n",
            "7      8  sandip   B      521      SLEEPING\n",
            "8      9  ramesh   C      236         CRAFT\n",
            "9     10  suresh   D      521  MODEL MAKING\n"
          ]
        }
      ]
    },
    {
      "cell_type": "code",
      "source": [
        "#2\n",
        "a=df['roll no']\n",
        "print(a)"
      ],
      "metadata": {
        "colab": {
          "base_uri": "https://localhost:8080/"
        },
        "id": "ixhew9w21Kiv",
        "outputId": "f1744abe-6a56-46ad-c208-99ec16c4b071"
      },
      "execution_count": null,
      "outputs": [
        {
          "output_type": "stream",
          "name": "stdout",
          "text": [
            "0    102\n",
            "1    106\n",
            "2    265\n",
            "3    365\n",
            "4    452\n",
            "5    123\n",
            "6    621\n",
            "7    521\n",
            "8    236\n",
            "9    521\n",
            "Name: roll no, dtype: int64\n"
          ]
        }
      ]
    },
    {
      "cell_type": "code",
      "source": [
        "#3\n",
        "print(b[['name','roll no']])\n",
        "g=df.columns.tolist()\n",
        "print(g)"
      ],
      "metadata": {
        "colab": {
          "base_uri": "https://localhost:8080/"
        },
        "id": "xhemln_m1U8Q",
        "outputId": "0128ab95-6eb4-4979-f1c7-8c48d6a43e63"
      },
      "execution_count": null,
      "outputs": [
        {
          "output_type": "stream",
          "name": "stdout",
          "text": [
            "     name  roll no\n",
            "0    yash      102\n",
            "1   rahul      106\n",
            "2   harsh      265\n",
            "3     jay      365\n",
            "4   rohit      452\n",
            "5    jeet      123\n",
            "6  sanket      621\n",
            "7  sandip      521\n",
            "8  ramesh      236\n",
            "9  suresh      521\n",
            "['sr.no', 'name', 'div', 'roll no', 'hobby']\n"
          ]
        }
      ]
    },
    {
      "cell_type": "code",
      "source": [
        "#4\n",
        "z=df['name'].value_counts()\n",
        "print(z)"
      ],
      "metadata": {
        "colab": {
          "base_uri": "https://localhost:8080/"
        },
        "id": "6NkEOcof2IG-",
        "outputId": "31e5aff1-e7b6-416b-d992-b7101bf08582"
      },
      "execution_count": null,
      "outputs": [
        {
          "output_type": "stream",
          "name": "stdout",
          "text": [
            "yash      1\n",
            "rahul     1\n",
            "harsh     1\n",
            "jay       1\n",
            "rohit     1\n",
            "jeet      1\n",
            "sanket    1\n",
            "sandip    1\n",
            "ramesh    1\n",
            "suresh    1\n",
            "Name: name, dtype: int64\n"
          ]
        }
      ]
    },
    {
      "cell_type": "code",
      "source": [
        "#5\n",
        "x=df['sr.no'].value_counts()[1]\n",
        "print(x)"
      ],
      "metadata": {
        "colab": {
          "base_uri": "https://localhost:8080/"
        },
        "id": "P3cKB1QL2iF7",
        "outputId": "83e1674f-c04e-410d-8368-0a25f4af5062"
      },
      "execution_count": null,
      "outputs": [
        {
          "output_type": "stream",
          "name": "stdout",
          "text": [
            "1\n"
          ]
        }
      ]
    },
    {
      "cell_type": "code",
      "source": [
        "#6\n",
        "from sqlalchemy import true\n",
        "s=df.sort_values(by='roll no',ascending=True)\n",
        "print(s)"
      ],
      "metadata": {
        "colab": {
          "base_uri": "https://localhost:8080/"
        },
        "id": "JlacxvWI21FV",
        "outputId": "ed67c610-6b8b-461c-dae4-42f56cb7e174"
      },
      "execution_count": null,
      "outputs": [
        {
          "output_type": "stream",
          "name": "stdout",
          "text": [
            "   sr.no    name div  roll no         hobby\n",
            "0      1    yash   A      102       READING\n",
            "1      2   rahul   A      106        GAMING\n",
            "5      6    jeet   C      123        GAMING\n",
            "8      9  ramesh   C      236         CRAFT\n",
            "2      3   harsh   B      265       PLAYING\n",
            "3      4     jay   B      365      SLEEPING\n",
            "4      5   rohit   C      452       READING\n",
            "7      8  sandip   B      521      SLEEPING\n",
            "9     10  suresh   D      521  MODEL MAKING\n",
            "6      7  sanket   A      621       PLAYING\n"
          ]
        }
      ]
    },
    {
      "cell_type": "code",
      "source": [
        "import pandas as pd\n",
        "df=pd.read_csv('/content/STUDENT_DATASET.csv')\n",
        "a=df.groupby('name')['percentage'].count()<=60\n",
        "b=df.aggregate(['sum','min','max'])\n",
        "print(b)\n",
        "print(a)"
      ],
      "metadata": {
        "id": "RoBhSW1b7zX6",
        "colab": {
          "base_uri": "https://localhost:8080/"
        },
        "outputId": "6af3ceeb-f321-406b-8d80-b405b9ef696e"
      },
      "execution_count": null,
      "outputs": [
        {
          "output_type": "stream",
          "name": "stdout",
          "text": [
            "      age                                                sex  Marks(400)  \\\n",
            "sum  3846  femalemalemalemalemalefemalefemalefemalemalefe...       30825   \n",
            "min    18                                             female         101   \n",
            "max    64                                               male         398   \n",
            "\n",
            "                                               Section  \\\n",
            "sum  ABCDABCDABCDABCDABCDABCDABCDABCDABCDABCDABCDAB...   \n",
            "min                                                  A   \n",
            "max                                                  D   \n",
            "\n",
            "                                                  name  \\\n",
            "sum  AAABBBCDCSDCSFGDFGSDSAABBBCHHHFGFHJIKOJKLOPLKP...   \n",
            "min                                                AAA   \n",
            "max                                                ZXC   \n",
            "\n",
            "                                                  City  percentage  \n",
            "sum  BanglorePuneMumbaiDelhiMumbaiBanglorePuneMumba...     7706.25  \n",
            "min                                           Banglore       25.25  \n",
            "max                                               Pune       99.50  \n",
            "name\n",
            "AAA    True\n",
            "AAB    True\n",
            "ABC    True\n",
            "ASD    True\n",
            "BBB    True\n",
            "       ... \n",
            "YUH    True\n",
            "YUI    True\n",
            "YUT    True\n",
            "ZAW    True\n",
            "ZXC    True\n",
            "Name: percentage, Length: 98, dtype: bool\n"
          ]
        }
      ]
    },
    {
      "cell_type": "code",
      "source": [
        "df[\"name_uppercase\"] = df['name'].map(lambda name:name.upper())\n",
        "print(df)"
      ],
      "metadata": {
        "colab": {
          "base_uri": "https://localhost:8080/"
        },
        "id": "CRHLfFDK9INa",
        "outputId": "ffba34d9-2b88-4069-936a-9750388d84d9"
      },
      "execution_count": null,
      "outputs": [
        {
          "output_type": "stream",
          "name": "stdout",
          "text": [
            "    age     sex  Marks(400) Section name      City  percentage name_uppercase\n",
            "0    19  female         300       A  AAA  Banglore       75.00            AAA\n",
            "1    18    male         330       B  BBB      Pune       82.50            BBB\n",
            "2    28    male         324       C  CDC    Mumbai       81.00            CDC\n",
            "3    33    male         322       D  SDC     Delhi       80.50            SDC\n",
            "4    32    male         240       A  SFG    Mumbai       60.00            SFG\n",
            "..  ...     ...         ...     ...  ...       ...         ...            ...\n",
            "94   64  female         356       C  NMB      Pune       89.00            NMB\n",
            "95   28  female         344       D  FDT     Delhi       86.00            FDT\n",
            "96   54  female         245       A  TAM      Pune       61.25            TAM\n",
            "97   55    male         388       B  GQP  Banglore       97.00            GQP\n",
            "98   56    male         365       C  KKK      Pune       91.25            KKK\n",
            "\n",
            "[99 rows x 8 columns]\n"
          ]
        }
      ]
    },
    {
      "cell_type": "code",
      "source": [
        "df['Marks(400)_TIMES_TWO']=df['Marks(400)']*2\n",
        "print(df)"
      ],
      "metadata": {
        "colab": {
          "base_uri": "https://localhost:8080/"
        },
        "id": "k7Ipe3v1_VLx",
        "outputId": "08c79607-6b89-414a-d69f-8bd056ff7a86"
      },
      "execution_count": null,
      "outputs": [
        {
          "output_type": "stream",
          "name": "stdout",
          "text": [
            "    age     sex  Marks(400) Section name      City  percentage name_uppercase  \\\n",
            "0    19  female         300       A  AAA  Banglore       75.00            AAA   \n",
            "1    18    male         330       B  BBB      Pune       82.50            BBB   \n",
            "2    28    male         324       C  CDC    Mumbai       81.00            CDC   \n",
            "3    33    male         322       D  SDC     Delhi       80.50            SDC   \n",
            "4    32    male         240       A  SFG    Mumbai       60.00            SFG   \n",
            "..  ...     ...         ...     ...  ...       ...         ...            ...   \n",
            "94   64  female         356       C  NMB      Pune       89.00            NMB   \n",
            "95   28  female         344       D  FDT     Delhi       86.00            FDT   \n",
            "96   54  female         245       A  TAM      Pune       61.25            TAM   \n",
            "97   55    male         388       B  GQP  Banglore       97.00            GQP   \n",
            "98   56    male         365       C  KKK      Pune       91.25            KKK   \n",
            "\n",
            "    Marks(400)_TIMES_TWO  \n",
            "0                    600  \n",
            "1                    660  \n",
            "2                    648  \n",
            "3                    644  \n",
            "4                    480  \n",
            "..                   ...  \n",
            "94                   712  \n",
            "95                   688  \n",
            "96                   490  \n",
            "97                   776  \n",
            "98                   730  \n",
            "\n",
            "[99 rows x 9 columns]\n"
          ]
        }
      ]
    },
    {
      "cell_type": "code",
      "source": [
        "from google.colab import drive\n",
        "drive.mount('/content/drive')"
      ],
      "metadata": {
        "colab": {
          "base_uri": "https://localhost:8080/"
        },
        "id": "J5IW0XCXmd5x",
        "outputId": "65abf35d-a4e1-4ec1-a499-b138914943a9"
      },
      "execution_count": null,
      "outputs": [
        {
          "output_type": "stream",
          "name": "stdout",
          "text": [
            "Drive already mounted at /content/drive; to attempt to forcibly remount, call drive.mount(\"/content/drive\", force_remount=True).\n"
          ]
        }
      ]
    },
    {
      "cell_type": "code",
      "source": [],
      "metadata": {
        "id": "Yc5ZD_Tlma6u"
      },
      "execution_count": null,
      "outputs": []
    },
    {
      "cell_type": "code",
      "source": [
        "import matplotlib.pyplot as plt\n",
        "import numpy as np\n",
        "\n",
        "xpoints = np.array([0,6])\n",
        "ypoints = np.array([0,250])\n",
        "\n",
        "#$plt.plot(xpoints,ypoints)\n",
        "plt.plot(xpoints,ypoints,'-.')\n",
        "plt.fill_between(xpoints,ypoints,color='red',alpha =0.1)\n",
        "plt.show()"
      ],
      "metadata": {
        "colab": {
          "base_uri": "https://localhost:8080/",
          "height": 430
        },
        "id": "KwpPrL7BmyXG",
        "outputId": "4b90d77c-6e7c-4479-d46f-e6fe5e265bc3"
      },
      "execution_count": null,
      "outputs": [
        {
          "output_type": "display_data",
          "data": {
            "text/plain": [
              "<Figure size 640x480 with 1 Axes>"
            ],
            "image/png": "[encoded data removed]"
          },
          "metadata": {}
        }
      ]
    },
    {
      "cell_type": "code",
      "source": [
        "import numpy as np\n",
        "import pandas as pd\n",
        "import matplotlib.pyplot as plt\n",
        "csv_file_path = \"/STUDENT_DATASET.csv\"\n",
        "\n",
        "data_frame = pd.read_csv(csv_file_path)\n",
        "array_data = np.array(data_frame)\n",
        "\n",
        "x = np.array(data_frame[\"age\"])\n",
        "y = np.array(data_frame[\"name\"])\n",
        "\n",
        "print(array_data)\n",
        "\n",
        "print(x)\n",
        "print(y)\n",
        "\n",
        "plt.plot(x, y, marker=\"o\")\n",
        "plt.xlabel(\"age\")\n",
        "plt.ylabel(\"name\")\n",
        "plt.title(\"Graph of Column1 vs Column2\")\n",
        "\n",
        "plt.show()"
      ],
      "metadata": {
        "colab": {
          "base_uri": "https://localhost:8080/",
          "height": 854
        },
        "id": "piObGseysJUM",
        "outputId": "b05e908b-e882-4d80-c704-83430ec6440f"
      },
      "execution_count": null,
      "outputs": [
        {
          "output_type": "stream",
          "name": "stdout",
          "text": [
            "[[19 'female' 300 'A' 'AAA' 'Banglore' 75.0]\n",
            " [18 'male' 330 'B' 'BBB' 'Pune' 82.5]\n",
            " [28 'male' 324 'C' 'CDC' 'Mumbai' 81.0]\n",
            " [33 'male' 322 'D' 'SDC' 'Delhi' 80.5]\n",
            " [32 'male' 240 'A' 'SFG' 'Mumbai' 60.0]\n",
            " [31 'female' 250 'B' 'DFG' 'Banglore' 62.5]\n",
            " [46 'female' 390 'C' 'SDS' 'Pune' 97.5]\n",
            " [37 'female' 300 'D' 'AAB' 'Mumbai' 75.0]\n",
            " [37 'male' 325 'A' 'BBC' 'Delhi' 81.25]\n",
            " [60 'female' 311 'B' 'HHH' 'Pune' 77.75]\n",
            " [25 'male' 322 'C' 'FGF' 'Banglore' 80.5]\n",
            " [62 'female' 388 'D' 'HJI' 'Pune' 97.0]\n",
            " [23 'male' 321 'A' 'KOJ' 'Mumbai' 80.25]\n",
            " [56 'female' 234 'B' 'KLO' 'Delhi' 58.5]\n",
            " [27 'male' 250 'C' 'PLK' 'Pune' 62.5]\n",
            " [19 'male' 200 'D' 'PLI' 'Mumbai' 50.0]\n",
            " [52 'female' 280 'A' 'PLY' 'Delhi' 70.0]\n",
            " [23 'male' 281 'B' 'PLT' 'Banglore' 70.25]\n",
            " [56 'male' 276 'C' 'OIU' 'Pune' 69.0]]\n",
            "[19 18 28 33 32 31 46 37 37 60 25 62 23 56 27 19 52 23 56]\n",
            "['AAA' 'BBB' 'CDC' 'SDC' 'SFG' 'DFG' 'SDS' 'AAB' 'BBC' 'HHH' 'FGF' 'HJI'\n",
            " 'KOJ' 'KLO' 'PLK' 'PLI' 'PLY' 'PLT' 'OIU']\n"
          ]
        },
        {
          "output_type": "display_data",
          "data": {
            "text/plain": [
              "<Figure size 640x480 with 1 Axes>"
            ],
            "image/png": "[encoded data removed]"
          },
          "metadata": {}
        }
      ]
    },
    {
      "cell_type": "code",
      "source": [
        "import matplotlib.pyplot as plt\n",
        "import numpy as np\n",
        "\n",
        "xpoints= np.array([0, 6])\n",
        "ypoints = np.array([0, 5])\n",
        "\n",
        "plt.plot(xpoints, ypoints)\n",
        "plt.show()"
      ],
      "metadata": {
        "colab": {
          "base_uri": "https://localhost:8080/",
          "height": 430
        },
        "id": "mcDIIMLdsdR9",
        "outputId": "ef2a035a-fcea-4988-dea4-2bb726773825"
      },
      "execution_count": null,
      "outputs": [
        {
          "output_type": "display_data",
          "data": {
            "text/plain": [
              "<Figure size 640x480 with 1 Axes>"
            ],
            "image/png": "[encoded data removed]"
          },
          "metadata": {}
        }
      ]
    },
    {
      "cell_type": "code",
      "source": [],
      "metadata": {
        "id": "ZW_tCm5Us0_0"
      },
      "execution_count": null,
      "outputs": []
    }
  ]
}