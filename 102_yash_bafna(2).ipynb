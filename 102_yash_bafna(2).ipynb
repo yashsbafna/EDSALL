{
  "nbformat": 4,
  "nbformat_minor": 0,
  "metadata": {
    "colab": {
      "provenance": []
    },
    "kernelspec": {
      "name": "python3",
      "display_name": "Python 3"
    },
    "language_info": {
      "name": "python"
    }
  },
  "cells": [
    {
      "cell_type": "code",
      "execution_count": null,
      "metadata": {
        "colab": {
          "base_uri": "https://localhost:8080/"
        },
        "id": "RQcnT2fpEoxa",
        "outputId": "f2326698-c701-4d2f-f7f8-6514a3affe7c"
      },
      "outputs": [
        {
          "output_type": "stream",
          "name": "stdout",
          "text": [
            "Welcome to Python\n"
          ]
        }
      ],
      "source": [
        "\n",
        "# Python Data Types\n",
        "# 1)Numbers 2)String 3)List 4)TUple\n",
        "\n",
        "\n",
        "#string\n",
        "str1 = \"Welcome to Python\"\n",
        "print(str1)"
      ]
    },
    {
      "cell_type": "code",
      "source": [],
      "metadata": {
        "id": "IlpBRMPDf_Xz"
      },
      "execution_count": null,
      "outputs": []
    },
    {
      "cell_type": "code",
      "source": [
        "# Numbers\n",
        "a=25\n",
        "print(\"a as int:\",a)\n",
        "b=548468\n",
        "print(\"b as long\",b)\n",
        "c=14.25\n",
        "print(\"c as float\",c)\n",
        "d=3.14j\n",
        "print(\"d as complex\",d)"
      ],
      "metadata": {
        "colab": {
          "base_uri": "https://localhost:8080/"
        },
        "id": "2yeOZ3fJE8sS",
        "outputId": "f20e9482-5d14-4a63-e430-d1d80e977b3f"
      },
      "execution_count": null,
      "outputs": [
        {
          "output_type": "stream",
          "name": "stdout",
          "text": [
            "a as int: 25\n",
            "b as long 548468\n",
            "c as float 14.25\n",
            "d as complex 3.14j\n"
          ]
        }
      ]
    },
    {
      "cell_type": "code",
      "source": [
        "#tuple\n",
        "l1=(21,\"Python\",21.45)\n",
        "print(l1)"
      ],
      "metadata": {
        "colab": {
          "base_uri": "https://localhost:8080/"
        },
        "id": "talqPImeE_LQ",
        "outputId": "1eba4ea1-d217-4d6a-f037-212839705afe"
      },
      "execution_count": null,
      "outputs": [
        {
          "output_type": "stream",
          "name": "stdout",
          "text": [
            "(21, 'Python', 21.45)\n"
          ]
        }
      ]
    },
    {
      "cell_type": "code",
      "source": [
        "#Dictionary\n",
        "\n",
        "d1={\"Aradhana\":21,\"Prarthana\":22,\"Rugved\":23}\n",
        "print(d1)"
      ],
      "metadata": {
        "colab": {
          "base_uri": "https://localhost:8080/"
        },
        "id": "6Gf1QtuGFII5",
        "outputId": "8b8864b8-6d3c-4b8c-efba-78783a663290"
      },
      "execution_count": null,
      "outputs": [
        {
          "output_type": "stream",
          "name": "stdout",
          "text": [
            "{'Aradhana': 21, 'Prarthana': 22, 'Rugved': 23}\n"
          ]
        }
      ]
    },
    {
      "cell_type": "code",
      "source": [
        "\n",
        "#List\n",
        "\n",
        "l1=[15,25.6,\"Python\"]\n",
        "print(l1)"
      ],
      "metadata": {
        "colab": {
          "base_uri": "https://localhost:8080/"
        },
        "id": "-uft5kKlFKW2",
        "outputId": "a3fab7ca-a8c2-4415-bea9-1effbbb83c3b"
      },
      "execution_count": null,
      "outputs": [
        {
          "output_type": "stream",
          "name": "stdout",
          "text": [
            "[15, 25.6, 'Python']\n"
          ]
        }
      ]
    },
    {
      "cell_type": "code",
      "source": [
        "#Decision making Statement\n",
        "#if-else statement\n",
        "print(\"Enter a Number\")\n",
        "num = int(input())\n",
        "if num%2==0:\n",
        "  print(num,\" is even\")\n",
        "else:\n",
        "  print(num, \"is odd\")"
      ],
      "metadata": {
        "colab": {
          "base_uri": "https://localhost:8080/"
        },
        "id": "zB0njd3jFOL4",
        "outputId": "d83c378f-6674-4ea9-a653-44d9f607d031"
      },
      "execution_count": null,
      "outputs": [
        {
          "output_type": "stream",
          "name": "stdout",
          "text": [
            "Enter a Number\n",
            "10\n",
            "10  is even\n"
          ]
        }
      ]
    },
    {
      "cell_type": "code",
      "source": [
        "# if statement\n",
        "n1 = int(input())\n",
        "n2 = int(input())\n",
        "n3 = int(input())\n",
        "if n1>n2 and n1>n3:\n",
        "  print(n1,\"is largest\")\n",
        "if n2>n1 and n2>n3:\n",
        "  print(n2, \"is largest\")\n",
        "if n3>n1 and n3>n2:\n",
        "  print(n3, \"is largest\")"
      ],
      "metadata": {
        "colab": {
          "base_uri": "https://localhost:8080/"
        },
        "id": "PMq_GsViFTsS",
        "outputId": "ca5a4faf-de2e-4a5b-bbea-7d3499454316"
      },
      "execution_count": null,
      "outputs": [
        {
          "output_type": "stream",
          "name": "stdout",
          "text": [
            "10\n",
            "20\n",
            "2\n",
            "20 is largest\n"
          ]
        }
      ]
    },
    {
      "cell_type": "code",
      "source": [
        "#Nested if statement\n",
        "n1=int(input())\n",
        "n2=int(input())\n",
        "n3=int(input())\n",
        "\n",
        "if n1>n2:\n",
        "  if n1>n3:\n",
        "    print(n1,\"is largest\")\n",
        "if n2>n3:\n",
        "  if n2>n1:\n",
        "    print(n2,\"is largest\")\n",
        "if n3>n2:\n",
        "  if n3>n1:\n",
        "   print(n3,\"is largest\")\n",
        "print(\"main area ends\")"
      ],
      "metadata": {
        "colab": {
          "base_uri": "https://localhost:8080/"
        },
        "id": "2EmkcEYoFeRb",
        "outputId": "d657eff4-2524-47b8-b755-90284087a973"
      },
      "execution_count": null,
      "outputs": [
        {
          "output_type": "stream",
          "name": "stdout",
          "text": [
            "20\n",
            "22\n",
            "44\n",
            "44 is largest\n",
            "main area ends\n"
          ]
        }
      ]
    },
    {
      "cell_type": "code",
      "source": [
        "#Short hand if-else\n",
        "print(\"Enter any number\")\n",
        "num=int(input())\n",
        "print(num,\"is even\") if num%2==0 else print(num,\"is odd\")"
      ],
      "metadata": {
        "colab": {
          "base_uri": "https://localhost:8080/"
        },
        "id": "y-QfEEA5Fl2U",
        "outputId": "72905a2e-0d9e-42bd-ab35-f275c0b9425f"
      },
      "execution_count": null,
      "outputs": [
        {
          "output_type": "stream",
          "name": "stdout",
          "text": [
            "Enter any number\n",
            "22\n",
            "22 is even\n"
          ]
        }
      ]
    },
    {
      "cell_type": "code",
      "source": [
        "#loop manipulation\n",
        "i=1\n",
        "while i<10:\n",
        "  print(\"Welcome\")\n",
        "  i=i+1"
      ],
      "metadata": {
        "colab": {
          "base_uri": "https://localhost:8080/"
        },
        "id": "ZOHYw7KHFslF",
        "outputId": "a29238d9-9be1-42dc-a3a4-faf80b2fae82"
      },
      "execution_count": null,
      "outputs": [
        {
          "output_type": "stream",
          "name": "stdout",
          "text": [
            "Welcome\n",
            "Welcome\n",
            "Welcome\n",
            "Welcome\n",
            "Welcome\n",
            "Welcome\n",
            "Welcome\n",
            "Welcome\n",
            "Welcome\n"
          ]
        }
      ]
    },
    {
      "cell_type": "code",
      "source": [
        "#elif\n",
        "weather = input(\"What is the Wheather today?\") #input\n",
        "if weather == \"Sunny\" :\n",
        "  print(\"It is a great day to go for a picnic! \")\n",
        "elif weather == \"Cloudy\":\n",
        "  print(\"Don't forget to bring jacket in case it rains.\")\n",
        "elif weather==\"Rainy\":\n",
        "  print(\"Remember to bring umbrella\")\n",
        "else:\n",
        "  print(\"Sorry! I don't understand the weather condition\")"
      ],
      "metadata": {
        "colab": {
          "base_uri": "https://localhost:8080/"
        },
        "id": "8EsaEjp0FyjO",
        "outputId": "d5d9cd65-f0a7-49b3-9675-45456cabee8e"
      },
      "execution_count": null,
      "outputs": [
        {
          "output_type": "stream",
          "name": "stdout",
          "text": [
            "What is the Wheather today?Rainy\n",
            "Remember to bring umbrella\n"
          ]
        }
      ]
    },
    {
      "cell_type": "code",
      "source": [
        "print(\"Enter a value\")\n",
        "num =int(input())\n",
        "sum=0\n",
        "i=1\n",
        "while i<=num:\n",
        "  sum=sum+i\n",
        "  i=i+1\n",
        "  print(\"sum\",sum)"
      ],
      "metadata": {
        "colab": {
          "base_uri": "https://localhost:8080/"
        },
        "id": "W1sgE7LvF5As",
        "outputId": "ebe700ac-d76b-4949-8dea-8048768a825b"
      },
      "execution_count": null,
      "outputs": [
        {
          "output_type": "stream",
          "name": "stdout",
          "text": [
            "Enter a value\n",
            "15\n",
            "sum 1\n",
            "sum 3\n",
            "sum 6\n",
            "sum 10\n",
            "sum 15\n",
            "sum 21\n",
            "sum 28\n",
            "sum 36\n",
            "sum 45\n",
            "sum 55\n",
            "sum 66\n",
            "sum 78\n",
            "sum 91\n",
            "sum 105\n",
            "sum 120\n"
          ]
        }
      ]
    },
    {
      "cell_type": "code",
      "source": [
        "#for loop\n",
        "l1=[\"C++\",\"java\",\"Python\"]\n",
        "for i in l1:\n",
        "  print(\"loop refers to book\",i)"
      ],
      "metadata": {
        "colab": {
          "base_uri": "https://localhost:8080/"
        },
        "id": "iqwrR0tDGAOX",
        "outputId": "19ac19d9-1687-4c10-e5b5-bdaf84db126d"
      },
      "execution_count": null,
      "outputs": [
        {
          "output_type": "stream",
          "name": "stdout",
          "text": [
            "loop refers to book C++\n",
            "loop refers to book java\n",
            "loop refers to book Python\n"
          ]
        }
      ]
    },
    {
      "cell_type": "code",
      "source": [
        "#Function\n",
        "#followed by:\n",
        "\n",
        "# some user defoned functions\n",
        "#1)\n",
        "def SayHello():\n",
        "  print(\"Welcome to Python\")\n",
        "SayHello()"
      ],
      "metadata": {
        "colab": {
          "base_uri": "https://localhost:8080/"
        },
        "id": "0wwgGschGDsc",
        "outputId": "27a2e93e-1fb4-47a3-c137-1c1e14bb88fc"
      },
      "execution_count": null,
      "outputs": [
        {
          "output_type": "stream",
          "name": "stdout",
          "text": [
            "Welcome to Python\n"
          ]
        }
      ]
    },
    {
      "cell_type": "code",
      "source": [
        "#2)\n",
        "def even():\n",
        "  print(\"Enter a number:\")\n",
        "  num = int(input())\n",
        "  if num%2==0:\n",
        "    print(\"Number is even:\",num)\n",
        "  else:\n",
        "    print(\"Number is odd:\",num)\n",
        "even()"
      ],
      "metadata": {
        "colab": {
          "base_uri": "https://localhost:8080/"
        },
        "id": "tmSTrI0-GHYi",
        "outputId": "11d9bf01-8a30-40ed-8b62-e102310ad4d2"
      },
      "execution_count": null,
      "outputs": [
        {
          "output_type": "stream",
          "name": "stdout",
          "text": [
            "Enter a number:\n",
            "15\n",
            "Number is odd: 15\n"
          ]
        }
      ]
    },
    {
      "cell_type": "code",
      "source": [
        "#3)\n",
        "def Sum():\n",
        "  a=5\n",
        "  b=7\n",
        "  sum=a+b\n",
        "  print(\"Sum =\",sum)\n",
        "Sum()"
      ],
      "metadata": {
        "colab": {
          "base_uri": "https://localhost:8080/"
        },
        "id": "ErJXqG8EGM3r",
        "outputId": "821c480d-a471-4f98-dfc0-aaa219815424"
      },
      "execution_count": null,
      "outputs": [
        {
          "output_type": "stream",
          "name": "stdout",
          "text": [
            "Sum = 12\n"
          ]
        }
      ]
    },
    {
      "cell_type": "code",
      "source": [
        "#4)\n",
        "def Loopoffruits():\n",
        "  fruits = [\"Apple\",\"Banana\",\"Cherry\"]\n",
        "  for i in fruits:\n",
        "    print(i,\"it is an fruit name\")\n",
        "Loopoffruits()"
      ],
      "metadata": {
        "colab": {
          "base_uri": "https://localhost:8080/"
        },
        "id": "hXlE32oxGQ21",
        "outputId": "0a2d25f5-b748-4f29-fa32-f1f0464b7b00"
      },
      "execution_count": null,
      "outputs": [
        {
          "output_type": "stream",
          "name": "stdout",
          "text": [
            "Apple it is an fruit name\n",
            "Banana it is an fruit name\n",
            "Cherry it is an fruit name\n"
          ]
        }
      ]
    },
    {
      "cell_type": "code",
      "source": [
        "#Datatypes and object related functions\n",
        "#type() return the type of parameter\n",
        "a=10\n",
        "b=True\n",
        "c=16.55\n",
        "d=[10,20,30]\n",
        "print(type(a))\n",
        "print(type(b))\n",
        "print(type(c))\n",
        "print(type(d))\n",
        "print(abs(15))"
      ],
      "metadata": {
        "colab": {
          "base_uri": "https://localhost:8080/"
        },
        "id": "PCM3AwxSGUAM",
        "outputId": "f5ec62e4-9a1e-4337-b557-3ec75179a211"
      },
      "execution_count": null,
      "outputs": [
        {
          "output_type": "stream",
          "name": "stdout",
          "text": [
            "<class 'int'>\n",
            "<class 'bool'>\n",
            "<class 'float'>\n",
            "<class 'list'>\n",
            "15\n"
          ]
        }
      ]
    },
    {
      "cell_type": "code",
      "source": [
        "#all() This function takes swquence (List,Tuple,String) as a parameter\n",
        "#returns true if all values in parameter are true\n",
        "l1=[\"\",\"\",\"\"]\n",
        "l2=[\"a\",\"\",\"\"]\n",
        "l3=[True,True]\n",
        "l4 = [True,False]\n",
        "l5 = [False,False]\n",
        "a=all(l1)\n",
        "b=all(l2)\n",
        "c=all(l3)\n",
        "d=all(l4)\n",
        "e=all(l5)\n",
        "print(a)\n",
        "print(b)\n",
        "print(c)\n",
        "print(d)\n",
        "print(e)"
      ],
      "metadata": {
        "colab": {
          "base_uri": "https://localhost:8080/"
        },
        "id": "9Uq-rNEsGa4Y",
        "outputId": "e6c7f932-85d8-4a7e-a09d-66152e2555f4"
      },
      "execution_count": null,
      "outputs": [
        {
          "output_type": "stream",
          "name": "stdout",
          "text": [
            "False\n",
            "False\n",
            "True\n",
            "False\n",
            "False\n"
          ]
        }
      ]
    },
    {
      "cell_type": "code",
      "source": [
        "def Bill():\n",
        "  p1 = int(input()) #p:product\n",
        "  p2 = int(input())\n",
        "  p3 = int(input())\n",
        "  p4 = int(input())\n",
        "  sum = p1+p2+p3+p4\n",
        "  print(\"The Total price of all products = \",sum)\n",
        "Bill()"
      ],
      "metadata": {
        "colab": {
          "base_uri": "https://localhost:8080/"
        },
        "id": "n5_VMcToGe30",
        "outputId": "f0f99a3b-f40e-4abc-dfd1-d9824ca63df8"
      },
      "execution_count": null,
      "outputs": [
        {
          "output_type": "stream",
          "name": "stdout",
          "text": [
            "10\n",
            "12\n",
            "17\n",
            "22\n",
            "The Total price of all products =  61\n"
          ]
        }
      ]
    },
    {
      "cell_type": "code",
      "source": [
        "def Marksheet():\n",
        "  print(\"Enter marks (0-300)\")\n",
        "  physics = int(input())\n",
        "  chemistry = int(input())\n",
        "  math = int(input())\n",
        "  Total_Marks = physics + chemistry + math\n",
        "  if (Total_Marks>=30 and Total_Marks<=300 ):\n",
        "    print(\"Pass\")\n",
        "  else:\n",
        "    print(\"fail\")"
      ],
      "metadata": {
        "id": "f5Fm0B-CGmvp"
      },
      "execution_count": null,
      "outputs": []
    },
    {
      "cell_type": "code",
      "source": [
        "# basic list operations append(), insert(), extend() functions\n",
        "# append() : appends and adds the specified element to list adds the spe\n",
        "l1 = [10,20,\"Python\",94.2,314]\n",
        "l1.append(21)\n",
        "print(l1)"
      ],
      "metadata": {
        "colab": {
          "base_uri": "https://localhost:8080/"
        },
        "id": "ep0hhERJGs_J",
        "outputId": "66863c13-0506-4ad4-ce89-b79d474c122f"
      },
      "execution_count": null,
      "outputs": [
        {
          "output_type": "stream",
          "name": "stdout",
          "text": [
            "[10, 20, 'Python', 94.2, 314, 21]\n"
          ]
        }
      ]
    },
    {
      "cell_type": "code",
      "source": [
        "#extend() This function adds the elements of parameter list with invoking list\n",
        "# list1.extends (list2)\n",
        "l1=[10, 20, 30]\n",
        "l2=[15,35,45,55]\n",
        "l1.extend(l2)\n",
        "print (l1)"
      ],
      "metadata": {
        "colab": {
          "base_uri": "https://localhost:8080/"
        },
        "id": "zU2vYJpiGvNA",
        "outputId": "930d50cd-546a-4665-ddc5-6924b1825b48"
      },
      "execution_count": null,
      "outputs": [
        {
          "output_type": "stream",
          "name": "stdout",
          "text": [
            "[10, 20, 30, 15, 35, 45, 55]\n"
          ]
        }
      ]
    },
    {
      "cell_type": "code",
      "source": [
        "#Statistics, in general, is the method of collection of data, tabulation, and interpretation\n",
        "import statistics\n",
        "l1= [1,2,3,3,2,2,2,1]\n",
        "print(statistics.mean(l1))"
      ],
      "metadata": {
        "colab": {
          "base_uri": "https://localhost:8080/"
        },
        "id": "_ujlYHLqGz18",
        "outputId": "faec3145-d50f-4320-8eae-9bb2c5ce44b6"
      },
      "execution_count": null,
      "outputs": [
        {
          "output_type": "stream",
          "name": "stdout",
          "text": [
            "2\n"
          ]
        }
      ]
    },
    {
      "cell_type": "code",
      "source": [
        "l1= [485,21.344, \"Python\", 25678]\n",
        "a = l1.__len__()      #Function returns the length of list\n",
        "print(a)"
      ],
      "metadata": {
        "colab": {
          "base_uri": "https://localhost:8080/"
        },
        "id": "RBFc8UEXG3iB",
        "outputId": "28d80232-2d33-4a25-b558-50399df9f487"
      },
      "execution_count": null,
      "outputs": [
        {
          "output_type": "stream",
          "name": "stdout",
          "text": [
            "4\n"
          ]
        }
      ]
    },
    {
      "cell_type": "code",
      "source": [
        "#It is the middle value of the data set. It splits the data into two halves.\n",
        "import statistics\n",
        "t1= (21,23,45,67)\n",
        "print(statistics.median(t1))"
      ],
      "metadata": {
        "colab": {
          "base_uri": "https://localhost:8080/"
        },
        "id": "6cynYSYVG50C",
        "outputId": "dcaaf17b-0687-45e5-af55-78cd0816de1a"
      },
      "execution_count": null,
      "outputs": [
        {
          "output_type": "stream",
          "name": "stdout",
          "text": [
            "34.0\n"
          ]
        }
      ]
    },
    {
      "cell_type": "code",
      "source": [
        "#median_high()\n",
        "#function returns the median of data in case of odd number of elements,\n",
        "#but in case of even number of elements, returns the higher of two middle elements.\n",
        "#median_high() method calculates the high median of the given data set.\n",
        "#This method also sorts the data in ascending order before calculating the high median.\n",
        "import statistics\n",
        "set1= [1, 3, 3, 4, 5]\n",
        "#1,3,3,4,5\n",
        "print(\"Median of the set is\", (statistics.median_high(set1)))"
      ],
      "metadata": {
        "colab": {
          "base_uri": "https://localhost:8080/"
        },
        "id": "3M2EWLjOG8Da",
        "outputId": "85325a91-c7af-4011-aa6a-e6e922c792c4"
      },
      "execution_count": null,
      "outputs": [
        {
          "output_type": "stream",
          "name": "stdout",
          "text": [
            "Median of the set is 3\n"
          ]
        }
      ]
    },
    {
      "cell_type": "code",
      "source": [
        "#The median_low() function returns the median of data in case of odd number of elements,\n",
        "#but in case of even number of elements, returns the lower of two middle elements.\n",
        "#The statistics.median_low() method calculates the low median of the given data set.\n",
        "#This method also sorts the data in ascending order before calculating the low median.\n",
        "import statistics\n",
        "set1 = [1, 2, 8, 4, 5]\n",
        "#1,1,2,4,5,8\n",
        "print(\"Low Median of the set is\", (statistics.median_low (set1)))"
      ],
      "metadata": {
        "colab": {
          "base_uri": "https://localhost:8080/"
        },
        "id": "IP8e_3iOHATb",
        "outputId": "0e03dfb8-abe0-4ea6-ac22-39e18c4f6a37"
      },
      "execution_count": null,
      "outputs": [
        {
          "output_type": "stream",
          "name": "stdout",
          "text": [
            "Low Median of the set is 4\n"
          ]
        }
      ]
    },
    {
      "cell_type": "code",
      "source": [
        "#Mode\n",
        "#It is the value that has the highest frequency in the given data set.\n",
        "#The data set may have no mode if the frequency of all data points is the same.\n",
        "from statistics import mode\n",
        "t1 = (6, 6, 6,6,3, 3,3,3,3,3,3,3,3,3,3,3,3,4, 5, 5, 5, 5,7)\n",
        "print(\"Mode of data set is \", (mode (t1)))"
      ],
      "metadata": {
        "colab": {
          "base_uri": "https://localhost:8080/"
        },
        "id": "Pq6NKo4lHBum",
        "outputId": "19063f84-faa4-45a0-c84e-27a1d6ff6232"
      },
      "execution_count": null,
      "outputs": [
        {
          "output_type": "stream",
          "name": "stdout",
          "text": [
            "Mode of data set is  3\n"
          ]
        }
      ]
    },
    {
      "cell_type": "code",
      "source": [
        "#standard deviation\n",
        "#It is defined as the square root of the variance.\n",
        "#It is calculated by finding the Mean, then subtracting each number from the Mean which is\n",
        "from statistics import stdev\n",
        "s1=(1, 2, 5, 4, 8, 9, 12)\n",
        "print(\"The Standard Deviation of Samplel is s\", (stdev(s1)))"
      ],
      "metadata": {
        "colab": {
          "base_uri": "https://localhost:8080/"
        },
        "id": "cHjc1me_HFbi",
        "outputId": "8c1d39f9-463d-4503-b323-f8f325eb54e4"
      },
      "execution_count": null,
      "outputs": [
        {
          "output_type": "stream",
          "name": "stdout",
          "text": [
            "The Standard Deviation of Samplel is s 3.9761191895520196\n"
          ]
        }
      ]
    },
    {
      "cell_type": "code",
      "source": [
        "#It is defined as an average squared deviation from the mean.\n",
        "from statistics import variance\n",
        "t1=(1, 2, 5, 4, 8, 9, 12)\n",
        "print(\"Variance of Samplel is s\", (variance(t1)))"
      ],
      "metadata": {
        "id": "cXtdkGpYHKtD",
        "outputId": "962aa744-050e-4f45-f3f7-c82122bb5804",
        "colab": {
          "base_uri": "https://localhost:8080/"
        }
      },
      "execution_count": null,
      "outputs": [
        {
          "output_type": "stream",
          "name": "stdout",
          "text": [
            "Variance of Samplel is s 15.80952380952381\n"
          ]
        }
      ]
    },
    {
      "cell_type": "code",
      "source": [
        "#The difference between the largest and smallest data point in our data set is known as th\n",
        "#Range = Largest data value - smallest data value\n",
        "arr = [1, 2, 3, 4, 5]\n",
        "Maximum = max(arr)\n",
        "Minimum= min (arr)\n",
        "Range = Maximum-Minimum\n",
        "print(\"Maximum ={}, Minimum = {} and Range = {}\".format (Maximum, Minimum, Range))"
      ],
      "metadata": {
        "id": "lHAclNLuHNGu",
        "outputId": "9eadacbc-d142-45d0-fdd5-0a5acc478a82",
        "colab": {
          "base_uri": "https://localhost:8080/"
        }
      },
      "execution_count": null,
      "outputs": [
        {
          "output_type": "stream",
          "name": "stdout",
          "text": [
            "Maximum =5, Minimum = 1 and Range = 4\n"
          ]
        }
      ]
    },
    {
      "cell_type": "code",
      "source": [
        "import pandas as pd\n",
        "df = pd.read_excel('/content/drive/MyDrive/python excel sheets/employ.xlsx')\n",
        "display(df)\n",
        "df1 = pd.read_excel(r'/content/drive/MyDrive/python excel sheets/salary.xlsx')\n",
        "display(df1)"
      ],
      "metadata": {
        "colab": {
          "base_uri": "https://localhost:8080/",
          "height": 740
        },
        "id": "Otrk4BA6WGmN",
        "outputId": "7f88b1db-b0d1-4888-da29-22df02285664"
      },
      "execution_count": null,
      "outputs": [
        {
          "output_type": "display_data",
          "data": {
            "text/plain": [
              "   Unnamed: 0 Unnamed: 1 Unnamed: 2           Unnamed: 3 Unnamed: 4\n",
              "0      Sr no.   Emp Name     Emp id                 Date     Leaves\n",
              "1           1    Ganesh        1001  2023-01-21 00:00:00          2\n",
              "2           2     Kartik       1002  2023-01-22 00:00:00          4\n",
              "3           3      Veera       1003  2023-01-23 00:00:00          8\n",
              "4           4  Sanskruti       1004  2023-01-24 00:00:00          6\n",
              "5           5    Archana       1005  2023-01-25 00:00:00          1\n",
              "6           6   Aradhana       1006  2023-01-26 00:00:00          2\n",
              "7           7    Pratham       1007  2023-01-27 00:00:00          3\n",
              "8           8     Sayali       1008  2023-01-28 00:00:00          5\n",
              "9           9     Smruti       1009  2023-01-29 00:00:00          9\n",
              "10         10      Vijay       1010  2023-01-30 00:00:00          7"
            ],
            "text/html": [
              "\n",
              "  <div id=\"df-653a713d-8f1f-41de-8931-b1d93cdfeaec\">\n",
              "    <div class=\"colab-df-container\">\n",
              "      <div>\n",
              "<style scoped>\n",
              "    .dataframe tbody tr th:only-of-type {\n",
              "        vertical-align: middle;\n",
              "    }\n",
              "\n",
              "    .dataframe tbody tr th {\n",
              "        vertical-align: top;\n",
              "    }\n",
              "\n",
              "    .dataframe thead th {\n",
              "        text-align: right;\n",
              "    }\n",
              "</style>\n",
              "<table border=\"1\" class=\"dataframe\">\n",
              "  <thead>\n",
              "    <tr style=\"text-align: right;\">\n",
              "      <th></th>\n",
              "      <th>Unnamed: 0</th>\n",
              "      <th>Unnamed: 1</th>\n",
              "      <th>Unnamed: 2</th>\n",
              "      <th>Unnamed: 3</th>\n",
              "      <th>Unnamed: 4</th>\n",
              "    </tr>\n",
              "  </thead>\n",
              "  <tbody>\n",
              "    <tr>\n",
              "      <th>0</th>\n",
              "      <td>Sr no.</td>\n",
              "      <td>Emp Name</td>\n",
              "      <td>Emp id</td>\n",
              "      <td>Date</td>\n",
              "      <td>Leaves</td>\n",
              "    </tr>\n",
              "    <tr>\n",
              "      <th>1</th>\n",
              "      <td>1</td>\n",
              "      <td>Ganesh</td>\n",
              "      <td>1001</td>\n",
              "      <td>2023-01-21 00:00:00</td>\n",
              "      <td>2</td>\n",
              "    </tr>\n",
              "    <tr>\n",
              "      <th>2</th>\n",
              "      <td>2</td>\n",
              "      <td>Kartik</td>\n",
              "      <td>1002</td>\n",
              "      <td>2023-01-22 00:00:00</td>\n",
              "      <td>4</td>\n",
              "    </tr>\n",
              "    <tr>\n",
              "      <th>3</th>\n",
              "      <td>3</td>\n",
              "      <td>Veera</td>\n",
              "      <td>1003</td>\n",
              "      <td>2023-01-23 00:00:00</td>\n",
              "      <td>8</td>\n",
              "    </tr>\n",
              "    <tr>\n",
              "      <th>4</th>\n",
              "      <td>4</td>\n",
              "      <td>Sanskruti</td>\n",
              "      <td>1004</td>\n",
              "      <td>2023-01-24 00:00:00</td>\n",
              "      <td>6</td>\n",
              "    </tr>\n",
              "    <tr>\n",
              "      <th>5</th>\n",
              "      <td>5</td>\n",
              "      <td>Archana</td>\n",
              "      <td>1005</td>\n",
              "      <td>2023-01-25 00:00:00</td>\n",
              "      <td>1</td>\n",
              "    </tr>\n",
              "    <tr>\n",
              "      <th>6</th>\n",
              "      <td>6</td>\n",
              "      <td>Aradhana</td>\n",
              "      <td>1006</td>\n",
              "      <td>2023-01-26 00:00:00</td>\n",
              "      <td>2</td>\n",
              "    </tr>\n",
              "    <tr>\n",
              "      <th>7</th>\n",
              "      <td>7</td>\n",
              "      <td>Pratham</td>\n",
              "      <td>1007</td>\n",
              "      <td>2023-01-27 00:00:00</td>\n",
              "      <td>3</td>\n",
              "    </tr>\n",
              "    <tr>\n",
              "      <th>8</th>\n",
              "      <td>8</td>\n",
              "      <td>Sayali</td>\n",
              "      <td>1008</td>\n",
              "      <td>2023-01-28 00:00:00</td>\n",
              "      <td>5</td>\n",
              "    </tr>\n",
              "    <tr>\n",
              "      <th>9</th>\n",
              "      <td>9</td>\n",
              "      <td>Smruti</td>\n",
              "      <td>1009</td>\n",
              "      <td>2023-01-29 00:00:00</td>\n",
              "      <td>9</td>\n",
              "    </tr>\n",
              "    <tr>\n",
              "      <th>10</th>\n",
              "      <td>10</td>\n",
              "      <td>Vijay</td>\n",
              "      <td>1010</td>\n",
              "      <td>2023-01-30 00:00:00</td>\n",
              "      <td>7</td>\n",
              "    </tr>\n",
              "  </tbody>\n",
              "</table>\n",
              "</div>\n",
              "      <button class=\"colab-df-convert\" onclick=\"convertToInteractive('df-653a713d-8f1f-41de-8931-b1d93cdfeaec')\"\n",
              "              title=\"Convert this dataframe to an interactive table.\"\n",
              "              style=\"display:none;\">\n",
              "        \n",
              "  <svg xmlns=\"http://www.w3.org/2000/svg\" height=\"24px\"viewBox=\"0 0 24 24\"\n",
              "       width=\"24px\">\n",
              "    <path d=\"M0 0h24v24H0V0z\" fill=\"none\"/>\n",
              "    <path d=\"M18.56 5.44l.94 2.06.94-2.06 2.06-.94-2.06-.94-.94-2.06-.94 2.06-2.06.94zm-11 1L8.5 8.5l.94-2.06 2.06-.94-2.06-.94L8.5 2.5l-.94 2.06-2.06.94zm10 10l.94 2.06.94-2.06 2.06-.94-2.06-.94-.94-2.06-.94 2.06-2.06.94z\"/><path d=\"M17.41 7.96l-1.37-1.37c-.4-.4-.92-.59-1.43-.59-.52 0-1.04.2-1.43.59L10.3 9.45l-7.72 7.72c-.78.78-.78 2.05 0 2.83L4 21.41c.39.39.9.59 1.41.59.51 0 1.02-.2 1.41-.59l7.78-7.78 2.81-2.81c.8-.78.8-2.07 0-2.86zM5.41 20L4 18.59l7.72-7.72 1.47 1.35L5.41 20z\"/>\n",
              "  </svg>\n",
              "      </button>\n",
              "      \n",
              "  <style>\n",
              "    .colab-df-container {\n",
              "      display:flex;\n",
              "      flex-wrap:wrap;\n",
              "      gap: 12px;\n",
              "    }\n",
              "\n",
              "    .colab-df-convert {\n",
              "      background-color: #E8F0FE;\n",
              "      border: none;\n",
              "      border-radius: 50%;\n",
              "      cursor: pointer;\n",
              "      display: none;\n",
              "      fill: #1967D2;\n",
              "      height: 32px;\n",
              "      padding: 0 0 0 0;\n",
              "      width: 32px;\n",
              "    }\n",
              "\n",
              "    .colab-df-convert:hover {\n",
              "      background-color: #E2EBFA;\n",
              "      box-shadow: 0px 1px 2px rgba(60, 64, 67, 0.3), 0px 1px 3px 1px rgba(60, 64, 67, 0.15);\n",
              "      fill: #174EA6;\n",
              "    }\n",
              "\n",
              "    [theme=dark] .colab-df-convert {\n",
              "      background-color: #3B4455;\n",
              "      fill: #D2E3FC;\n",
              "    }\n",
              "\n",
              "    [theme=dark] .colab-df-convert:hover {\n",
              "      background-color: #434B5C;\n",
              "      box-shadow: 0px 1px 3px 1px rgba(0, 0, 0, 0.15);\n",
              "      filter: drop-shadow(0px 1px 2px rgba(0, 0, 0, 0.3));\n",
              "      fill: #FFFFFF;\n",
              "    }\n",
              "  </style>\n",
              "\n",
              "      <script>\n",
              "        const buttonEl =\n",
              "          document.querySelector('#df-653a713d-8f1f-41de-8931-b1d93cdfeaec button.colab-df-convert');\n",
              "        buttonEl.style.display =\n",
              "          google.colab.kernel.accessAllowed ? 'block' : 'none';\n",
              "\n",
              "        async function convertToInteractive(key) {\n",
              "          const element = document.querySelector('#df-653a713d-8f1f-41de-8931-b1d93cdfeaec');\n",
              "          const dataTable =\n",
              "            await google.colab.kernel.invokeFunction('convertToInteractive',\n",
              "                                                     [key], {});\n",
              "          if (!dataTable) return;\n",
              "\n",
              "          const docLinkHtml = 'Like what you see? Visit the ' +\n",
              "            '<a target=\"_blank\" href=https://colab.research.google.com/notebooks/data_table.ipynb>data table notebook</a>'\n",
              "            + ' to learn more about interactive tables.';\n",
              "          element.innerHTML = '';\n",
              "          dataTable['output_type'] = 'display_data';\n",
              "          await google.colab.output.renderOutput(dataTable, element);\n",
              "          const docLink = document.createElement('div');\n",
              "          docLink.innerHTML = docLinkHtml;\n",
              "          element.appendChild(docLink);\n",
              "        }\n",
              "      </script>\n",
              "    </div>\n",
              "  </div>\n",
              "  "
            ]
          },
          "metadata": {}
        },
        {
          "output_type": "display_data",
          "data": {
            "text/plain": [
              "    Emp Name  Emp id  Salary\n",
              "0    Ganesh     1001   25000\n",
              "1     Kartik    1002   40000\n",
              "2      Veera    1003   80000\n",
              "3  Sanskruti    1004   60000\n",
              "4    Archana    1005   50000\n",
              "5   Aradhana    1006   30000\n",
              "6    Pratham    1007   15000\n",
              "7     Sayali    1008   55000\n",
              "8     Smruti    1009   80000\n",
              "9      Vijay    1010  100000"
            ],
            "text/html": [
              "\n",
              "  <div id=\"df-aeda1a6e-e8b9-4d68-8d4c-3e53edb679a9\">\n",
              "    <div class=\"colab-df-container\">\n",
              "      <div>\n",
              "<style scoped>\n",
              "    .dataframe tbody tr th:only-of-type {\n",
              "        vertical-align: middle;\n",
              "    }\n",
              "\n",
              "    .dataframe tbody tr th {\n",
              "        vertical-align: top;\n",
              "    }\n",
              "\n",
              "    .dataframe thead th {\n",
              "        text-align: right;\n",
              "    }\n",
              "</style>\n",
              "<table border=\"1\" class=\"dataframe\">\n",
              "  <thead>\n",
              "    <tr style=\"text-align: right;\">\n",
              "      <th></th>\n",
              "      <th>Emp Name</th>\n",
              "      <th>Emp id</th>\n",
              "      <th>Salary</th>\n",
              "    </tr>\n",
              "  </thead>\n",
              "  <tbody>\n",
              "    <tr>\n",
              "      <th>0</th>\n",
              "      <td>Ganesh</td>\n",
              "      <td>1001</td>\n",
              "      <td>25000</td>\n",
              "    </tr>\n",
              "    <tr>\n",
              "      <th>1</th>\n",
              "      <td>Kartik</td>\n",
              "      <td>1002</td>\n",
              "      <td>40000</td>\n",
              "    </tr>\n",
              "    <tr>\n",
              "      <th>2</th>\n",
              "      <td>Veera</td>\n",
              "      <td>1003</td>\n",
              "      <td>80000</td>\n",
              "    </tr>\n",
              "    <tr>\n",
              "      <th>3</th>\n",
              "      <td>Sanskruti</td>\n",
              "      <td>1004</td>\n",
              "      <td>60000</td>\n",
              "    </tr>\n",
              "    <tr>\n",
              "      <th>4</th>\n",
              "      <td>Archana</td>\n",
              "      <td>1005</td>\n",
              "      <td>50000</td>\n",
              "    </tr>\n",
              "    <tr>\n",
              "      <th>5</th>\n",
              "      <td>Aradhana</td>\n",
              "      <td>1006</td>\n",
              "      <td>30000</td>\n",
              "    </tr>\n",
              "    <tr>\n",
              "      <th>6</th>\n",
              "      <td>Pratham</td>\n",
              "      <td>1007</td>\n",
              "      <td>15000</td>\n",
              "    </tr>\n",
              "    <tr>\n",
              "      <th>7</th>\n",
              "      <td>Sayali</td>\n",
              "      <td>1008</td>\n",
              "      <td>55000</td>\n",
              "    </tr>\n",
              "    <tr>\n",
              "      <th>8</th>\n",
              "      <td>Smruti</td>\n",
              "      <td>1009</td>\n",
              "      <td>80000</td>\n",
              "    </tr>\n",
              "    <tr>\n",
              "      <th>9</th>\n",
              "      <td>Vijay</td>\n",
              "      <td>1010</td>\n",
              "      <td>100000</td>\n",
              "    </tr>\n",
              "  </tbody>\n",
              "</table>\n",
              "</div>\n",
              "      <button class=\"colab-df-convert\" onclick=\"convertToInteractive('df-aeda1a6e-e8b9-4d68-8d4c-3e53edb679a9')\"\n",
              "              title=\"Convert this dataframe to an interactive table.\"\n",
              "              style=\"display:none;\">\n",
              "        \n",
              "  <svg xmlns=\"http://www.w3.org/2000/svg\" height=\"24px\"viewBox=\"0 0 24 24\"\n",
              "       width=\"24px\">\n",
              "    <path d=\"M0 0h24v24H0V0z\" fill=\"none\"/>\n",
              "    <path d=\"M18.56 5.44l.94 2.06.94-2.06 2.06-.94-2.06-.94-.94-2.06-.94 2.06-2.06.94zm-11 1L8.5 8.5l.94-2.06 2.06-.94-2.06-.94L8.5 2.5l-.94 2.06-2.06.94zm10 10l.94 2.06.94-2.06 2.06-.94-2.06-.94-.94-2.06-.94 2.06-2.06.94z\"/><path d=\"M17.41 7.96l-1.37-1.37c-.4-.4-.92-.59-1.43-.59-.52 0-1.04.2-1.43.59L10.3 9.45l-7.72 7.72c-.78.78-.78 2.05 0 2.83L4 21.41c.39.39.9.59 1.41.59.51 0 1.02-.2 1.41-.59l7.78-7.78 2.81-2.81c.8-.78.8-2.07 0-2.86zM5.41 20L4 18.59l7.72-7.72 1.47 1.35L5.41 20z\"/>\n",
              "  </svg>\n",
              "      </button>\n",
              "      \n",
              "  <style>\n",
              "    .colab-df-container {\n",
              "      display:flex;\n",
              "      flex-wrap:wrap;\n",
              "      gap: 12px;\n",
              "    }\n",
              "\n",
              "    .colab-df-convert {\n",
              "      background-color: #E8F0FE;\n",
              "      border: none;\n",
              "      border-radius: 50%;\n",
              "      cursor: pointer;\n",
              "      display: none;\n",
              "      fill: #1967D2;\n",
              "      height: 32px;\n",
              "      padding: 0 0 0 0;\n",
              "      width: 32px;\n",
              "    }\n",
              "\n",
              "    .colab-df-convert:hover {\n",
              "      background-color: #E2EBFA;\n",
              "      box-shadow: 0px 1px 2px rgba(60, 64, 67, 0.3), 0px 1px 3px 1px rgba(60, 64, 67, 0.15);\n",
              "      fill: #174EA6;\n",
              "    }\n",
              "\n",
              "    [theme=dark] .colab-df-convert {\n",
              "      background-color: #3B4455;\n",
              "      fill: #D2E3FC;\n",
              "    }\n",
              "\n",
              "    [theme=dark] .colab-df-convert:hover {\n",
              "      background-color: #434B5C;\n",
              "      box-shadow: 0px 1px 3px 1px rgba(0, 0, 0, 0.15);\n",
              "      filter: drop-shadow(0px 1px 2px rgba(0, 0, 0, 0.3));\n",
              "      fill: #FFFFFF;\n",
              "    }\n",
              "  </style>\n",
              "\n",
              "      <script>\n",
              "        const buttonEl =\n",
              "          document.querySelector('#df-aeda1a6e-e8b9-4d68-8d4c-3e53edb679a9 button.colab-df-convert');\n",
              "        buttonEl.style.display =\n",
              "          google.colab.kernel.accessAllowed ? 'block' : 'none';\n",
              "\n",
              "        async function convertToInteractive(key) {\n",
              "          const element = document.querySelector('#df-aeda1a6e-e8b9-4d68-8d4c-3e53edb679a9');\n",
              "          const dataTable =\n",
              "            await google.colab.kernel.invokeFunction('convertToInteractive',\n",
              "                                                     [key], {});\n",
              "          if (!dataTable) return;\n",
              "\n",
              "          const docLinkHtml = 'Like what you see? Visit the ' +\n",
              "            '<a target=\"_blank\" href=https://colab.research.google.com/notebooks/data_table.ipynb>data table notebook</a>'\n",
              "            + ' to learn more about interactive tables.';\n",
              "          element.innerHTML = '';\n",
              "          dataTable['output_type'] = 'display_data';\n",
              "          await google.colab.output.renderOutput(dataTable, element);\n",
              "          const docLink = document.createElement('div');\n",
              "          docLink.innerHTML = docLinkHtml;\n",
              "          element.appendChild(docLink);\n",
              "        }\n",
              "      </script>\n",
              "    </div>\n",
              "  </div>\n",
              "  "
            ]
          },
          "metadata": {}
        }
      ]
    },
    {
      "cell_type": "code",
      "source": [
        "#Code on if false python on the problem statement given below Aradhana want to buy vegetables, grocery and some daily needs but having a budget of rupees 500.Now if the cost of vegetables and grocery is above she is not able to buy daily needs.If the budget of each item is 166 then she is able to buy all the items\n",
        "budget = 500\n",
        "item_cost = 166\n",
        "\n",
        "vegetables_cost = int(input(\"Enter the cost of vegetables: \"))\n",
        "grocery_cost = int(input(\"Enter the cost of grocery: \"))\n",
        "\n",
        "if vegetables_cost + grocery_cost > budget:\n",
        "    print(\"Aradhana cannot buy daily needs.\")\n",
        "else:\n",
        "     print(\"Aradhana can buy all the items.\")\n"
      ],
      "metadata": {
        "colab": {
          "base_uri": "https://localhost:8080/"
        },
        "id": "VFWqMefGt7Zg",
        "outputId": "679a036e-d9b8-4be6-f207-07b54f7a2112"
      },
      "execution_count": null,
      "outputs": [
        {
          "output_type": "stream",
          "name": "stdout",
          "text": [
            "Enter the cost of vegetables: 400\n",
            "Enter the cost of grocery: 1220\n",
            "Aradhana cannot buy daily needs.\n"
          ]
        }
      ]
    },
    {
      "cell_type": "code",
      "source": [
        "#fech detaconvert csv into touple\n",
        "import pandas as pd\n",
        "dd=pd.read_csv('/content/sample_data/yashbafna.csv')\n",
        "print(dd)\n",
        "#display in increasing order of cost\n",
        "dd.short_values(by=['cost(in cr)'],ascending=true)\n",
        "\n"
      ],
      "metadata": {
        "id": "sDK_n8b0gCCB",
        "colab": {
          "base_uri": "https://localhost:8080/",
          "height": 704
        },
        "outputId": "715787dd-7ae0-4579-f025-c1107245fe1e"
      },
      "execution_count": null,
      "outputs": [
        {
          "output_type": "stream",
          "name": "stdout",
          "text": [
            "    sr.no        movie name  no of cast  cost(in cr)  screens aloted\n",
            "0       1           titanic           5           44             110\n",
            "1       2      three idiots           6           19             144\n",
            "2       3            sultan           4            4             133\n",
            "3       4      koi mil gaya           2           23              42\n",
            "4       5             krish           8           52             700\n",
            "5       6           krish 2           9           85              60\n",
            "6       7          avangers           4          100             740\n",
            "7       8             avtar           5           23              90\n",
            "8       9       jungle book           1           55             100\n",
            "9      10  avanger end game           5           10              50\n",
            "10     11          two guns           3           66              99\n",
            "11     12              thor           5           50             700\n",
            "12     13                it           4           20             500\n",
            "13     14     the conguring           6           30             600\n",
            "14     15         fling jut           7            4             400\n",
            "15     16           vertigo           5           60             600\n",
            "16     17           ant man           2           10             400\n",
            "17     18            padman           3           20             300\n",
            "18     19          iron man           5           60             200\n",
            "19     20   captian america           9           80             600\n"
          ]
        },
        {
          "output_type": "error",
          "ename": "AttributeError",
          "evalue": "ignored",
          "traceback": [
            "\u001b[0;31m---------------------------------------------------------------------------\u001b[0m",
            "\u001b[0;31mAttributeError\u001b[0m                            Traceback (most recent call last)",
            "\u001b[0;32m<ipython-input-10-937613c7f560>\u001b[0m in \u001b[0;36m<cell line: 6>\u001b[0;34m()\u001b[0m\n\u001b[1;32m      4\u001b[0m \u001b[0mprint\u001b[0m\u001b[0;34m(\u001b[0m\u001b[0mdd\u001b[0m\u001b[0;34m)\u001b[0m\u001b[0;34m\u001b[0m\u001b[0;34m\u001b[0m\u001b[0m\n\u001b[1;32m      5\u001b[0m \u001b[0;31m#display in increasing order of cost\u001b[0m\u001b[0;34m\u001b[0m\u001b[0;34m\u001b[0m\u001b[0m\n\u001b[0;32m----> 6\u001b[0;31m \u001b[0mdd\u001b[0m\u001b[0;34m.\u001b[0m\u001b[0mshort_values\u001b[0m\u001b[0;34m(\u001b[0m\u001b[0mby\u001b[0m\u001b[0;34m=\u001b[0m\u001b[0;34m[\u001b[0m\u001b[0;34m'cost(in cr)'\u001b[0m\u001b[0;34m]\u001b[0m\u001b[0;34m,\u001b[0m\u001b[0mascending\u001b[0m\u001b[0;34m=\u001b[0m\u001b[0mtrue\u001b[0m\u001b[0;34m)\u001b[0m\u001b[0;34m\u001b[0m\u001b[0;34m\u001b[0m\u001b[0m\n\u001b[0m\u001b[1;32m      7\u001b[0m \u001b[0;34m\u001b[0m\u001b[0m\n",
            "\u001b[0;32m/usr/local/lib/python3.10/dist-packages/pandas/core/generic.py\u001b[0m in \u001b[0;36m__getattr__\u001b[0;34m(self, name)\u001b[0m\n\u001b[1;32m   5900\u001b[0m         ):\n\u001b[1;32m   5901\u001b[0m             \u001b[0;32mreturn\u001b[0m \u001b[0mself\u001b[0m\u001b[0;34m[\u001b[0m\u001b[0mname\u001b[0m\u001b[0;34m]\u001b[0m\u001b[0;34m\u001b[0m\u001b[0;34m\u001b[0m\u001b[0m\n\u001b[0;32m-> 5902\u001b[0;31m         \u001b[0;32mreturn\u001b[0m \u001b[0mobject\u001b[0m\u001b[0;34m.\u001b[0m\u001b[0m__getattribute__\u001b[0m\u001b[0;34m(\u001b[0m\u001b[0mself\u001b[0m\u001b[0;34m,\u001b[0m \u001b[0mname\u001b[0m\u001b[0;34m)\u001b[0m\u001b[0;34m\u001b[0m\u001b[0;34m\u001b[0m\u001b[0m\n\u001b[0m\u001b[1;32m   5903\u001b[0m \u001b[0;34m\u001b[0m\u001b[0m\n\u001b[1;32m   5904\u001b[0m     \u001b[0;32mdef\u001b[0m \u001b[0m__setattr__\u001b[0m\u001b[0;34m(\u001b[0m\u001b[0mself\u001b[0m\u001b[0;34m,\u001b[0m \u001b[0mname\u001b[0m\u001b[0;34m:\u001b[0m \u001b[0mstr\u001b[0m\u001b[0;34m,\u001b[0m \u001b[0mvalue\u001b[0m\u001b[0;34m)\u001b[0m \u001b[0;34m->\u001b[0m \u001b[0;32mNone\u001b[0m\u001b[0;34m:\u001b[0m\u001b[0;34m\u001b[0m\u001b[0;34m\u001b[0m\u001b[0m\n",
            "\u001b[0;31mAttributeError\u001b[0m: 'DataFrame' object has no attribute 'short_values'"
          ]
        }
      ]
    }
  ]
}