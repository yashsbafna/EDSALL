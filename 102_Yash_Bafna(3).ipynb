{
  "nbformat": 4,
  "nbformat_minor": 0,
  "metadata": {
    "colab": {
      "provenance": []
    },
    "kernelspec": {
      "name": "python3",
      "display_name": "Python 3"
    },
    "language_info": {
      "name": "python"
    }
  },
  "cells": [
    {
      "cell_type": "code",
      "execution_count": null,
      "metadata": {
        "colab": {
          "base_uri": "https://localhost:8080/"
        },
        "id": "G0zCPxb6TDx4",
        "outputId": "1fd78045-7edd-4236-bc6c-0909f5f2e96d"
      },
      "outputs": [
        {
          "output_type": "stream",
          "name": "stdout",
          "text": [
            "a as int: 25\n",
            "b as long 548468\n",
            "c as float 14.25\n",
            "d as complex 3.14j\n",
            "welcome to python\n",
            "[15, 25.6, 'python']\n",
            "(21, 'python', 21.45)\n",
            "{'aradhana': 21, 'prarthana': 100, 'rugved': 23}\n"
          ]
        }
      ],
      "source": [
        "a=25\n",
        "print(\"a as int:\",a)\n",
        "\n",
        "b=548468\n",
        "print(\"b as long\",b)\n",
        "\n",
        "c=14.25\n",
        "print(\"c as float\",c)\n",
        "\n",
        "d=3.14j\n",
        "print(\"d as complex\",d)\n",
        "\n",
        "\n",
        "#string\n",
        "str1=\"welcome to python\"\n",
        "print(str1)\n",
        "\n",
        "#list\n",
        "l1=[15,25.6,\"python\"]\n",
        "print(l1)\n",
        "\n",
        "#tuple\n",
        "t1=(21,\"python\",21.45)\n",
        "print(t1)\n",
        "\n",
        "#dictionary\n",
        "d1={\"aradhana\":21,\"prarthana\":100,\"rugved\":23}\n",
        "print(d1)"
      ]
    },
    {
      "cell_type": "markdown",
      "source": [],
      "metadata": {
        "id": "aDCsmxfIWsHv"
      }
    },
    {
      "cell_type": "markdown",
      "source": [],
      "metadata": {
        "id": "KZj_3f2AWsTG"
      }
    },
    {
      "cell_type": "markdown",
      "source": [],
      "metadata": {
        "id": "Ls3kASu7Wsje"
      }
    },
    {
      "cell_type": "code",
      "source": [
        "weather = input(\"what is the weather today?\")\n",
        "if weather == \"sunny\":\n",
        "  print(\"it is great to go for a picnic\")\n",
        "\n",
        "elif weather ==\"cloudy\":\n",
        "  print(\"do not forget to take jacket incase if it rains\")\n",
        "elif  weather == \"rainy\":\n",
        "  print(\"do not forget to take umbrella\")\n",
        "else:\n",
        "  print(\"sorry, I don't understood the weather \")"
      ],
      "metadata": {
        "colab": {
          "base_uri": "https://localhost:8080/"
        },
        "id": "vxT2JJe7Wt1m",
        "outputId": "0edb8011-1863-46b8-bb4b-009d867844f1"
      },
      "execution_count": null,
      "outputs": [
        {
          "output_type": "stream",
          "name": "stdout",
          "text": [
            "what is the weather today?sunny\n",
            "it is great to go for a picnic\n"
          ]
        }
      ]
    },
    {
      "cell_type": "code",
      "source": [
        "#if statement\n",
        "n1 = int(input())\n",
        "n2 = int(input())\n",
        "n3 = int(input())\n",
        "if n1>n2 and n1>n3 :\n",
        "  print(n1,\"is largest\")\n",
        "if n2>n1 and n2>n3 :\n",
        "  print(n2,\"is largest\")\n",
        "if n3>n1 and n3>n2 :\n",
        "  print(n3,\"is largest\")"
      ],
      "metadata": {
        "colab": {
          "base_uri": "https://localhost:8080/"
        },
        "id": "aEQtYrQDc83W",
        "outputId": "06d83fc0-7601-4b42-8c22-7f2c374ad1f7"
      },
      "execution_count": null,
      "outputs": [
        {
          "output_type": "stream",
          "name": "stdout",
          "text": [
            "21\n",
            "22\n",
            "23\n",
            "23 is largest\n"
          ]
        }
      ]
    },
    {
      "cell_type": "code",
      "source": [
        "#extend()\n",
        "#list1.extend(list2)\n",
        "\n",
        "11=[20,30,40]\n",
        "12=[80,70]\n",
        "11.extract(12)\n",
        "print(11)"
      ],
      "metadata": {
        "id": "N2KNxRZaAVlr",
        "colab": {
          "base_uri": "https://localhost:8080/",
          "height": 130
        },
        "outputId": "2c6fbe8d-8e7f-4fa1-aaad-9c20a05f243a"
      },
      "execution_count": null,
      "outputs": [
        {
          "output_type": "error",
          "ename": "SyntaxError",
          "evalue": "ignored",
          "traceback": [
            "\u001b[0;36m  File \u001b[0;32m\"<ipython-input-2-3b6e15c0864b>\"\u001b[0;36m, line \u001b[0;32m4\u001b[0m\n\u001b[0;31m    11=[20,30,40]\u001b[0m\n\u001b[0m    ^\u001b[0m\n\u001b[0;31mSyntaxError\u001b[0m\u001b[0;31m:\u001b[0m cannot assign to literal\n"
          ]
        }
      ]
    },
    {
      "cell_type": "code",
      "source": [
        "#if statement\n",
        "n1 = int(input())\n",
        "n2 = int(input())\n",
        "n3 = int(input())\n",
        "if n1>n2 and n1>n3 :\n",
        "  print(n1,\"is largest\")\n",
        "if n2>n1 and n2>n3 :\n",
        "  print(n2,\"is largest\")\n",
        "if n3>n1 and n3>n2 :\n",
        "  print(n3,\"is largest\")"
      ],
      "metadata": {
        "colab": {
          "base_uri": "https://localhost:8080/"
        },
        "id": "VMrHvAgHJos0",
        "outputId": "99a94d4f-cd50-4883-e85e-01906cf8330a"
      },
      "execution_count": null,
      "outputs": [
        {
          "output_type": "stream",
          "name": "stdout",
          "text": [
            "20\n",
            "30\n",
            "40\n",
            "40 is largest\n"
          ]
        }
      ]
    },
    {
      "cell_type": "code",
      "source": [
        "#insert\n",
        "11 =[\"python\",\"java\",\"essential of data science\"]\n",
        "print(11)\n",
        "11.insert(2,\"hadoop\")\n",
        "print(11)"
      ],
      "metadata": {
        "colab": {
          "base_uri": "https://localhost:8080/",
          "height": 130
        },
        "id": "v1UgopifJz6L",
        "outputId": "d1952f67-8910-48e3-ce45-1d06bfa3801b"
      },
      "execution_count": null,
      "outputs": [
        {
          "output_type": "error",
          "ename": "SyntaxError",
          "evalue": "ignored",
          "traceback": [
            "\u001b[0;36m  File \u001b[0;32m\"<ipython-input-5-5870ff6f718a>\"\u001b[0;36m, line \u001b[0;32m2\u001b[0m\n\u001b[0;31m    11 =[\"python\",\"java\",\"essential of data science\"]\u001b[0m\n\u001b[0m    ^\u001b[0m\n\u001b[0;31mSyntaxError\u001b[0m\u001b[0;31m:\u001b[0m cannot assign to literal\n"
          ]
        }
      ]
    }
  ]
}