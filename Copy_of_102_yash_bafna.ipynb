{
  "nbformat": 4,
  "nbformat_minor": 0,
  "metadata": {
    "colab": {
      "provenance": []
    },
    "kernelspec": {
      "name": "python3",
      "display_name": "Python 3"
    },
    "language_info": {
      "name": "python"
    }
  },
  "cells": [
    {
      "cell_type": "code",
      "execution_count": null,
      "metadata": {
        "colab": {
          "base_uri": "https://localhost:8080/"
        },
        "id": "RQcnT2fpEoxa",
        "outputId": "f2326698-c701-4d2f-f7f8-6514a3affe7c"
      },
      "outputs": [
        {
          "output_type": "stream",
          "name": "stdout",
          "text": [
            "Welcome to Python\n"
          ]
        }
      ],
      "source": [
        "\n",
        "# Python Data Types\n",
        "# 1)Numbers 2)String 3)List 4)TUple\n",
        "\n",
        "\n",
        "#string\n",
        "str1 = \"Welcome to Python\"\n",
        "print(str1)"
      ]
    },
    {
      "cell_type": "code",
      "source": [
        "# Numbers\n",
        "a=25\n",
        "print(\"a as int:\",a)\n",
        "b=548468\n",
        "print(\"b as long\",b)\n",
        "c=14.25\n",
        "print(\"c as float\",c)\n",
        "d=3.14j\n",
        "print(\"d as complex\",d)"
      ],
      "metadata": {
        "colab": {
          "base_uri": "https://localhost:8080/"
        },
        "id": "2yeOZ3fJE8sS",
        "outputId": "f20e9482-5d14-4a63-e430-d1d80e977b3f"
      },
      "execution_count": null,
      "outputs": [
        {
          "output_type": "stream",
          "name": "stdout",
          "text": [
            "a as int: 25\n",
            "b as long 548468\n",
            "c as float 14.25\n",
            "d as complex 3.14j\n"
          ]
        }
      ]
    },
    {
      "cell_type": "code",
      "source": [
        "#tuple\n",
        "l1=(21,\"Python\",21.45)\n",
        "print(l1)"
      ],
      "metadata": {
        "colab": {
          "base_uri": "https://localhost:8080/"
        },
        "id": "talqPImeE_LQ",
        "outputId": "1eba4ea1-d217-4d6a-f037-212839705afe"
      },
      "execution_count": null,
      "outputs": [
        {
          "output_type": "stream",
          "name": "stdout",
          "text": [
            "(21, 'Python', 21.45)\n"
          ]
        }
      ]
    },
    {
      "cell_type": "code",
      "source": [
        "#Dictionary\n",
        "\n",
        "d1={\"Aradhana\":21,\"Prarthana\":22,\"Rugved\":23}\n",
        "print(d1)"
      ],
      "metadata": {
        "colab": {
          "base_uri": "https://localhost:8080/"
        },
        "id": "6Gf1QtuGFII5",
        "outputId": "8b8864b8-6d3c-4b8c-efba-78783a663290"
      },
      "execution_count": null,
      "outputs": [
        {
          "output_type": "stream",
          "name": "stdout",
          "text": [
            "{'Aradhana': 21, 'Prarthana': 22, 'Rugved': 23}\n"
          ]
        }
      ]
    },
    {
      "cell_type": "code",
      "source": [
        "\n",
        "#List\n",
        "\n",
        "l1=[15,25.6,\"Python\"]\n",
        "print(l1)"
      ],
      "metadata": {
        "colab": {
          "base_uri": "https://localhost:8080/"
        },
        "id": "-uft5kKlFKW2",
        "outputId": "a3fab7ca-a8c2-4415-bea9-1effbbb83c3b"
      },
      "execution_count": null,
      "outputs": [
        {
          "output_type": "stream",
          "name": "stdout",
          "text": [
            "[15, 25.6, 'Python']\n"
          ]
        }
      ]
    },
    {
      "cell_type": "code",
      "source": [
        "#Decision making Statement\n",
        "#if-else statement\n",
        "print(\"Enter a Number\")\n",
        "num = int(input())\n",
        "if num%2==0:\n",
        "  print(num,\" is even\")\n",
        "else:\n",
        "  print(num, \"is odd\")"
      ],
      "metadata": {
        "colab": {
          "base_uri": "https://localhost:8080/"
        },
        "id": "zB0njd3jFOL4",
        "outputId": "d83c378f-6674-4ea9-a653-44d9f607d031"
      },
      "execution_count": null,
      "outputs": [
        {
          "output_type": "stream",
          "name": "stdout",
          "text": [
            "Enter a Number\n",
            "10\n",
            "10  is even\n"
          ]
        }
      ]
    },
    {
      "cell_type": "code",
      "source": [
        "# if statement\n",
        "n1 = int(input())\n",
        "n2 = int(input())\n",
        "n3 = int(input())\n",
        "if n1>n2 and n1>n3:\n",
        "  print(n1,\"is largest\")\n",
        "if n2>n1 and n2>n3:\n",
        "  print(n2, \"is largest\")\n",
        "if n3>n1 and n3>n2:\n",
        "  print(n3, \"is largest\")"
      ],
      "metadata": {
        "colab": {
          "base_uri": "https://localhost:8080/"
        },
        "id": "PMq_GsViFTsS",
        "outputId": "ca5a4faf-de2e-4a5b-bbea-7d3499454316"
      },
      "execution_count": null,
      "outputs": [
        {
          "output_type": "stream",
          "name": "stdout",
          "text": [
            "10\n",
            "20\n",
            "2\n",
            "20 is largest\n"
          ]
        }
      ]
    },
    {
      "cell_type": "code",
      "source": [
        "#Nested if statement\n",
        "n1=int(input())\n",
        "n2=int(input())\n",
        "n3=int(input())\n",
        "\n",
        "if n1>n2:\n",
        "  if n1>n3:\n",
        "    print(n1,\"is largest\")\n",
        "if n2>n3:\n",
        "  if n2>n1:\n",
        "    print(n2,\"is largest\")\n",
        "if n3>n2:\n",
        "  if n3>n1:\n",
        "   print(n3,\"is largest\")\n",
        "print(\"main area ends\")"
      ],
      "metadata": {
        "colab": {
          "base_uri": "https://localhost:8080/"
        },
        "id": "2EmkcEYoFeRb",
        "outputId": "d657eff4-2524-47b8-b755-90284087a973"
      },
      "execution_count": null,
      "outputs": [
        {
          "output_type": "stream",
          "name": "stdout",
          "text": [
            "20\n",
            "22\n",
            "44\n",
            "44 is largest\n",
            "main area ends\n"
          ]
        }
      ]
    },
    {
      "cell_type": "code",
      "source": [
        "#Short hand if-else\n",
        "print(\"Enter any number\")\n",
        "num=int(input())\n",
        "print(num,\"is even\") if num%2==0 else print(num,\"is odd\")"
      ],
      "metadata": {
        "colab": {
          "base_uri": "https://localhost:8080/"
        },
        "id": "y-QfEEA5Fl2U",
        "outputId": "72905a2e-0d9e-42bd-ab35-f275c0b9425f"
      },
      "execution_count": null,
      "outputs": [
        {
          "output_type": "stream",
          "name": "stdout",
          "text": [
            "Enter any number\n",
            "22\n",
            "22 is even\n"
          ]
        }
      ]
    },
    {
      "cell_type": "code",
      "source": [
        "#loop manipulation\n",
        "i=1\n",
        "while i<10:\n",
        "  print(\"Welcome\")\n",
        "  i=i+1"
      ],
      "metadata": {
        "colab": {
          "base_uri": "https://localhost:8080/"
        },
        "id": "ZOHYw7KHFslF",
        "outputId": "a29238d9-9be1-42dc-a3a4-faf80b2fae82"
      },
      "execution_count": null,
      "outputs": [
        {
          "output_type": "stream",
          "name": "stdout",
          "text": [
            "Welcome\n",
            "Welcome\n",
            "Welcome\n",
            "Welcome\n",
            "Welcome\n",
            "Welcome\n",
            "Welcome\n",
            "Welcome\n",
            "Welcome\n"
          ]
        }
      ]
    },
    {
      "cell_type": "code",
      "source": [
        "#elif\n",
        "weather = input(\"What is the Wheather today?\") #input\n",
        "if weather == \"Sunny\" :\n",
        "  print(\"It is a great day to go for a picnic! \")\n",
        "elif weather == \"Cloudy\":\n",
        "  print(\"Don't forget to bring jacket in case it rains.\")\n",
        "elif weather==\"Rainy\":\n",
        "  print(\"Remember to bring umbrella\")\n",
        "else:\n",
        "  print(\"Sorry! I don't understand the weather condition\")"
      ],
      "metadata": {
        "colab": {
          "base_uri": "https://localhost:8080/"
        },
        "id": "8EsaEjp0FyjO",
        "outputId": "d5d9cd65-f0a7-49b3-9675-45456cabee8e"
      },
      "execution_count": null,
      "outputs": [
        {
          "output_type": "stream",
          "name": "stdout",
          "text": [
            "What is the Wheather today?Rainy\n",
            "Remember to bring umbrella\n"
          ]
        }
      ]
    },
    {
      "cell_type": "code",
      "source": [
        "print(\"Enter a value\")\n",
        "num =int(input())\n",
        "sum=0\n",
        "i=1\n",
        "while i<=num:\n",
        "  sum=sum+i\n",
        "  i=i+1\n",
        "  print(\"sum\",sum)"
      ],
      "metadata": {
        "colab": {
          "base_uri": "https://localhost:8080/"
        },
        "id": "W1sgE7LvF5As",
        "outputId": "ebe700ac-d76b-4949-8dea-8048768a825b"
      },
      "execution_count": null,
      "outputs": [
        {
          "output_type": "stream",
          "name": "stdout",
          "text": [
            "Enter a value\n",
            "15\n",
            "sum 1\n",
            "sum 3\n",
            "sum 6\n",
            "sum 10\n",
            "sum 15\n",
            "sum 21\n",
            "sum 28\n",
            "sum 36\n",
            "sum 45\n",
            "sum 55\n",
            "sum 66\n",
            "sum 78\n",
            "sum 91\n",
            "sum 105\n",
            "sum 120\n"
          ]
        }
      ]
    },
    {
      "cell_type": "code",
      "source": [
        "#for loop\n",
        "l1=[\"C++\",\"java\",\"Python\"]\n",
        "for i in l1:\n",
        "  print(\"loop refers to book\",i)"
      ],
      "metadata": {
        "colab": {
          "base_uri": "https://localhost:8080/"
        },
        "id": "iqwrR0tDGAOX",
        "outputId": "19ac19d9-1687-4c10-e5b5-bdaf84db126d"
      },
      "execution_count": null,
      "outputs": [
        {
          "output_type": "stream",
          "name": "stdout",
          "text": [
            "loop refers to book C++\n",
            "loop refers to book java\n",
            "loop refers to book Python\n"
          ]
        }
      ]
    },
    {
      "cell_type": "code",
      "source": [
        "#Function\n",
        "#followed by:\n",
        "\n",
        "# some user defoned functions\n",
        "#1)\n",
        "def SayHello():\n",
        "  print(\"Welcome to Python\")\n",
        "SayHello()"
      ],
      "metadata": {
        "colab": {
          "base_uri": "https://localhost:8080/"
        },
        "id": "0wwgGschGDsc",
        "outputId": "27a2e93e-1fb4-47a3-c137-1c1e14bb88fc"
      },
      "execution_count": null,
      "outputs": [
        {
          "output_type": "stream",
          "name": "stdout",
          "text": [
            "Welcome to Python\n"
          ]
        }
      ]
    },
    {
      "cell_type": "code",
      "source": [
        "#2)\n",
        "def even():\n",
        "  print(\"Enter a number:\")\n",
        "  num = int(input())\n",
        "  if num%2==0:\n",
        "    print(\"Number is even:\",num)\n",
        "  else:\n",
        "    print(\"Number is odd:\",num)\n",
        "even()"
      ],
      "metadata": {
        "colab": {
          "base_uri": "https://localhost:8080/"
        },
        "id": "tmSTrI0-GHYi",
        "outputId": "11d9bf01-8a30-40ed-8b62-e102310ad4d2"
      },
      "execution_count": null,
      "outputs": [
        {
          "output_type": "stream",
          "name": "stdout",
          "text": [
            "Enter a number:\n",
            "15\n",
            "Number is odd: 15\n"
          ]
        }
      ]
    },
    {
      "cell_type": "code",
      "source": [
        "#3)\n",
        "def Sum():\n",
        "  a=5\n",
        "  b=7\n",
        "  sum=a+b\n",
        "  print(\"Sum =\",sum)\n",
        "Sum()"
      ],
      "metadata": {
        "colab": {
          "base_uri": "https://localhost:8080/"
        },
        "id": "ErJXqG8EGM3r",
        "outputId": "821c480d-a471-4f98-dfc0-aaa219815424"
      },
      "execution_count": null,
      "outputs": [
        {
          "output_type": "stream",
          "name": "stdout",
          "text": [
            "Sum = 12\n"
          ]
        }
      ]
    },
    {
      "cell_type": "code",
      "source": [
        "#4)\n",
        "def Loopoffruits():\n",
        "  fruits = [\"Apple\",\"Banana\",\"Cherry\"]\n",
        "  for i in fruits:\n",
        "    print(i,\"it is an fruit name\")\n",
        "Loopoffruits()"
      ],
      "metadata": {
        "colab": {
          "base_uri": "https://localhost:8080/"
        },
        "id": "hXlE32oxGQ21",
        "outputId": "0a2d25f5-b748-4f29-fa32-f1f0464b7b00"
      },
      "execution_count": null,
      "outputs": [
        {
          "output_type": "stream",
          "name": "stdout",
          "text": [
            "Apple it is an fruit name\n",
            "Banana it is an fruit name\n",
            "Cherry it is an fruit name\n"
          ]
        }
      ]
    },
    {
      "cell_type": "code",
      "source": [
        "#Datatypes and object related functions\n",
        "#type() return the type of parameter\n",
        "a=10\n",
        "b=True\n",
        "c=16.55\n",
        "d=[10,20,30]\n",
        "print(type(a))\n",
        "print(type(b))\n",
        "print(type(c))\n",
        "print(type(d))\n",
        "print(abs(15))"
      ],
      "metadata": {
        "colab": {
          "base_uri": "https://localhost:8080/"
        },
        "id": "PCM3AwxSGUAM",
        "outputId": "f5ec62e4-9a1e-4337-b557-3ec75179a211"
      },
      "execution_count": null,
      "outputs": [
        {
          "output_type": "stream",
          "name": "stdout",
          "text": [
            "<class 'int'>\n",
            "<class 'bool'>\n",
            "<class 'float'>\n",
            "<class 'list'>\n",
            "15\n"
          ]
        }
      ]
    },
    {
      "cell_type": "code",
      "source": [
        "#all() This function takes swquence (List,Tuple,String) as a parameter\n",
        "#returns true if all values in parameter are true\n",
        "l1=[\"\",\"\",\"\"]\n",
        "l2=[\"a\",\"\",\"\"]\n",
        "l3=[True,True]\n",
        "l4 = [True,False]\n",
        "l5 = [False,False]\n",
        "a=all(l1)\n",
        "b=all(l2)\n",
        "c=all(l3)\n",
        "d=all(l4)\n",
        "e=all(l5)\n",
        "print(a)\n",
        "print(b)\n",
        "print(c)\n",
        "print(d)\n",
        "print(e)"
      ],
      "metadata": {
        "colab": {
          "base_uri": "https://localhost:8080/"
        },
        "id": "9Uq-rNEsGa4Y",
        "outputId": "e6c7f932-85d8-4a7e-a09d-66152e2555f4"
      },
      "execution_count": null,
      "outputs": [
        {
          "output_type": "stream",
          "name": "stdout",
          "text": [
            "False\n",
            "False\n",
            "True\n",
            "False\n",
            "False\n"
          ]
        }
      ]
    },
    {
      "cell_type": "code",
      "source": [
        "def Bill():\n",
        "  p1 = int(input()) #p:product\n",
        "  p2 = int(input())\n",
        "  p3 = int(input())\n",
        "  p4 = int(input())\n",
        "  sum = p1+p2+p3+p4\n",
        "  print(\"The Total price of all products = \",sum)\n",
        "Bill()"
      ],
      "metadata": {
        "colab": {
          "base_uri": "https://localhost:8080/"
        },
        "id": "n5_VMcToGe30",
        "outputId": "f0f99a3b-f40e-4abc-dfd1-d9824ca63df8"
      },
      "execution_count": null,
      "outputs": [
        {
          "output_type": "stream",
          "name": "stdout",
          "text": [
            "10\n",
            "12\n",
            "17\n",
            "22\n",
            "The Total price of all products =  61\n"
          ]
        }
      ]
    },
    {
      "cell_type": "code",
      "source": [
        "def Marksheet():\n",
        "  print(\"Enter marks (0-300)\")\n",
        "  physics = int(input())\n",
        "  chemistry = int(input())\n",
        "  math = int(input())\n",
        "  Total_Marks = physics + chemistry + math\n",
        "  if (Total_Marks>=30 and Total_Marks<=300 ):\n",
        "    print(\"Pass\")\n",
        "  else:\n",
        "    print(\"fail\")"
      ],
      "metadata": {
        "id": "f5Fm0B-CGmvp"
      },
      "execution_count": null,
      "outputs": []
    },
    {
      "cell_type": "code",
      "source": [
        "# basic list operations append(), insert(), extend() functions\n",
        "# append() : appends and adds the specified element to list adds the spe\n",
        "l1 = [10,20,\"Python\",94.2,314]\n",
        "l1.append(21)\n",
        "print(l1)"
      ],
      "metadata": {
        "colab": {
          "base_uri": "https://localhost:8080/"
        },
        "id": "ep0hhERJGs_J",
        "outputId": "66863c13-0506-4ad4-ce89-b79d474c122f"
      },
      "execution_count": null,
      "outputs": [
        {
          "output_type": "stream",
          "name": "stdout",
          "text": [
            "[10, 20, 'Python', 94.2, 314, 21]\n"
          ]
        }
      ]
    },
    {
      "cell_type": "code",
      "source": [
        "#extend() This function adds the elements of parameter list with invoking list\n",
        "# list1.extends (list2)\n",
        "l1=[10, 20, 30]\n",
        "l2=[15,35,45,55]\n",
        "l1.extend(l2)\n",
        "print (l1)"
      ],
      "metadata": {
        "colab": {
          "base_uri": "https://localhost:8080/"
        },
        "id": "zU2vYJpiGvNA",
        "outputId": "930d50cd-546a-4665-ddc5-6924b1825b48"
      },
      "execution_count": null,
      "outputs": [
        {
          "output_type": "stream",
          "name": "stdout",
          "text": [
            "[10, 20, 30, 15, 35, 45, 55]\n"
          ]
        }
      ]
    },
    {
      "cell_type": "code",
      "source": [
        "#Statistics, in general, is the method of collection of data, tabulation, and interpretation\n",
        "import statistics\n",
        "l1= [1,2,3,3,2,2,2,1]\n",
        "print(statistics.mean(l1))"
      ],
      "metadata": {
        "colab": {
          "base_uri": "https://localhost:8080/"
        },
        "id": "_ujlYHLqGz18",
        "outputId": "faec3145-d50f-4320-8eae-9bb2c5ce44b6"
      },
      "execution_count": null,
      "outputs": [
        {
          "output_type": "stream",
          "name": "stdout",
          "text": [
            "2\n"
          ]
        }
      ]
    },
    {
      "cell_type": "code",
      "source": [
        "l1= [485,21.344, \"Python\", 25678]\n",
        "a = l1.__len__()      #Function returns the length of list\n",
        "print(a)"
      ],
      "metadata": {
        "colab": {
          "base_uri": "https://localhost:8080/"
        },
        "id": "RBFc8UEXG3iB",
        "outputId": "28d80232-2d33-4a25-b558-50399df9f487"
      },
      "execution_count": null,
      "outputs": [
        {
          "output_type": "stream",
          "name": "stdout",
          "text": [
            "4\n"
          ]
        }
      ]
    },
    {
      "cell_type": "code",
      "source": [
        "#It is the middle value of the data set. It splits the data into two halves.\n",
        "import statistics\n",
        "t1= (21,23,45,67)\n",
        "print(statistics.median(t1))"
      ],
      "metadata": {
        "colab": {
          "base_uri": "https://localhost:8080/"
        },
        "id": "6cynYSYVG50C",
        "outputId": "dcaaf17b-0687-45e5-af55-78cd0816de1a"
      },
      "execution_count": null,
      "outputs": [
        {
          "output_type": "stream",
          "name": "stdout",
          "text": [
            "34.0\n"
          ]
        }
      ]
    },
    {
      "cell_type": "code",
      "source": [
        "#median_high()\n",
        "#function returns the median of data in case of odd number of elements,\n",
        "#but in case of even number of elements, returns the higher of two middle elements.\n",
        "#median_high() method calculates the high median of the given data set.\n",
        "#This method also sorts the data in ascending order before calculating the high median.\n",
        "import statistics\n",
        "set1= [1, 3, 3, 4, 5]\n",
        "#1,3,3,4,5\n",
        "print(\"Median of the set is\", (statistics.median_high(set1)))"
      ],
      "metadata": {
        "colab": {
          "base_uri": "https://localhost:8080/"
        },
        "id": "3M2EWLjOG8Da",
        "outputId": "85325a91-c7af-4011-aa6a-e6e922c792c4"
      },
      "execution_count": null,
      "outputs": [
        {
          "output_type": "stream",
          "name": "stdout",
          "text": [
            "Median of the set is 3\n"
          ]
        }
      ]
    },
    {
      "cell_type": "code",
      "source": [
        "#The median_low() function returns the median of data in case of odd number of elements,\n",
        "#but in case of even number of elements, returns the lower of two middle elements.\n",
        "#The statistics.median_low() method calculates the low median of the given data set.\n",
        "#This method also sorts the data in ascending order before calculating the low median.\n",
        "import statistics\n",
        "set1 = [1, 2, 8, 4, 5]\n",
        "#1,1,2,4,5,8\n",
        "print(\"Low Median of the set is\", (statistics.median_low (set1)))"
      ],
      "metadata": {
        "colab": {
          "base_uri": "https://localhost:8080/"
        },
        "id": "IP8e_3iOHATb",
        "outputId": "0e03dfb8-abe0-4ea6-ac22-39e18c4f6a37"
      },
      "execution_count": null,
      "outputs": [
        {
          "output_type": "stream",
          "name": "stdout",
          "text": [
            "Low Median of the set is 4\n"
          ]
        }
      ]
    },
    {
      "cell_type": "code",
      "source": [
        "#Mode\n",
        "#It is the value that has the highest frequency in the given data set.\n",
        "#The data set may have no mode if the frequency of all data points is the same.\n",
        "from statistics import mode\n",
        "t1 = (6, 6, 6,6,3, 3,3,3,3,3,3,3,3,3,3,3,3,4, 5, 5, 5, 5,7)\n",
        "print(\"Mode of data set is \", (mode (t1)))"
      ],
      "metadata": {
        "colab": {
          "base_uri": "https://localhost:8080/"
        },
        "id": "Pq6NKo4lHBum",
        "outputId": "19063f84-faa4-45a0-c84e-27a1d6ff6232"
      },
      "execution_count": null,
      "outputs": [
        {
          "output_type": "stream",
          "name": "stdout",
          "text": [
            "Mode of data set is  3\n"
          ]
        }
      ]
    },
    {
      "cell_type": "code",
      "source": [
        "#standard deviation\n",
        "#It is defined as the square root of the variance.\n",
        "#It is calculated by finding the Mean, then subtracting each number from the Mean which is\n",
        "from statistics import stdev\n",
        "s1=(1, 2, 5, 4, 8, 9, 12)\n",
        "print(\"The Standard Deviation of Samplel is s\", (stdev(s1)))"
      ],
      "metadata": {
        "colab": {
          "base_uri": "https://localhost:8080/"
        },
        "id": "cHjc1me_HFbi",
        "outputId": "8c1d39f9-463d-4503-b323-f8f325eb54e4"
      },
      "execution_count": null,
      "outputs": [
        {
          "output_type": "stream",
          "name": "stdout",
          "text": [
            "The Standard Deviation of Samplel is s 3.9761191895520196\n"
          ]
        }
      ]
    },
    {
      "cell_type": "code",
      "source": [
        "#It is defined as an average squared deviation from the mean.\n",
        "from statistics import variance\n",
        "t1=(1, 2, 5, 4, 8, 9, 12)\n",
        "print(\"Variance of Samplel is s\", (variance(t1)))"
      ],
      "metadata": {
        "colab": {
          "base_uri": "https://localhost:8080/"
        },
        "id": "cXtdkGpYHKtD",
        "outputId": "962aa744-050e-4f45-f3f7-c82122bb5804"
      },
      "execution_count": null,
      "outputs": [
        {
          "output_type": "stream",
          "name": "stdout",
          "text": [
            "Variance of Samplel is s 15.80952380952381\n"
          ]
        }
      ]
    },
    {
      "cell_type": "code",
      "source": [
        "#The difference between the largest and smallest data point in our data set is known as th\n",
        "#Range = Largest data value - smallest data value\n",
        "arr = [1, 2, 3, 4, 5]\n",
        "Maximum = max(arr)\n",
        "Minimum= min (arr)\n",
        "Range = Maximum-Minimum\n",
        "print(\"Maximum ={}, Minimum = {} and Range = {}\".format (Maximum, Minimum, Range))"
      ],
      "metadata": {
        "colab": {
          "base_uri": "https://localhost:8080/"
        },
        "id": "lHAclNLuHNGu",
        "outputId": "9eadacbc-d142-45d0-fdd5-0a5acc478a82"
      },
      "execution_count": null,
      "outputs": [
        {
          "output_type": "stream",
          "name": "stdout",
          "text": [
            "Maximum =5, Minimum = 1 and Range = 4\n"
          ]
        }
      ]
    }
  ]
}